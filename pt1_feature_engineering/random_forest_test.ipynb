{
 "cells": [
  {
   "cell_type": "markdown",
   "metadata": {},
   "source": [
    "## Random Forest Test"
   ]
  },
  {
   "cell_type": "markdown",
   "metadata": {},
   "source": [
    "In this notebook, I will be testing each csv file that I created in feature engineering notebook.\n",
    "- will be running random forest classifier to determine countrycode"
   ]
  },
  {
   "cell_type": "code",
   "execution_count": 1,
   "metadata": {
    "collapsed": true
   },
   "outputs": [],
   "source": [
    "from sklearn.ensemble import RandomForestClassifier\n",
    "from sklearn.model_selection import train_test_split\n",
    "import pandas as pd\n",
    "import numpy as np"
   ]
  },
  {
   "cell_type": "markdown",
   "metadata": {},
   "source": [
    "### Aircraft career"
   ]
  },
  {
   "cell_type": "code",
   "execution_count": 372,
   "metadata": {
    "collapsed": true
   },
   "outputs": [],
   "source": [
    "dfacc = pd.read_csv(\"./modified_data/aircraft_carrier.csv\")"
   ]
  },
  {
   "cell_type": "code",
   "execution_count": 2,
   "metadata": {
    "collapsed": true
   },
   "outputs": [],
   "source": [
    "def randomforest_tester(filename):\n",
    "    df = pd.read_csv(filename)\n",
    "    print \"total data points: {}\".format(len(df))\n",
    "    a = df.groupby(df['countrycode']).count().sort(columns='recognized',ascending=False).head(5)\n",
    "    print a['recognized']\n",
    "    df_test1 = df.drop(['Unnamed: 0','word','X','Y','time'], axis=1)\n",
    "    df_test2 = df.drop(['Unnamed: 0','word','year','month','day','hour_created','X','Y','time'], axis=1)\n",
    "    df_test3 = df.drop(['Unnamed: 0','word','year','month','day','hour_created','X','Y','time'], axis=1)\n",
    "    Y_unuse = df_test1.pop('countrycode')\n",
    "    Y = df_test2.pop('countrycode')\n",
    "    b_loon = {'US': 0, 'RU':1, 'BR':2, 'KR':3}\n",
    "    Y = Y.map(b_loon)\n",
    "    X_train1, X_test1, y_train1, y_test1 = train_test_split(df_test1, Y)\n",
    "    X_train2, X_test2, y_train2, y_test2 = train_test_split(df_test2, Y)\n",
    "    RFC1 = RandomForestClassifier()\n",
    "    RFC1.fit(X_train1,y_train1)\n",
    "    score_w_time = RFC1.score(X_test1,y_test1)\n",
    "    RFC2 = RandomForestClassifier()\n",
    "    RFC2.fit(X_train2,y_train2)\n",
    "    score_notime = RFC2.score(X_test2,y_test2)\n",
    "    return score_w_time,score_notime,RFC1,RFC2,df_test3,df"
   ]
  },
  {
   "cell_type": "code",
   "execution_count": 9,
   "metadata": {
    "collapsed": true
   },
   "outputs": [],
   "source": [
    "def randomforest_pkl(filename):\n",
    "    df = pd.read_pickle(filename)\n",
    "    print \"total data points: {}\".format(len(df))\n",
    "    a = df.groupby(df['countrycode']).count().sort(columns='recognized',ascending=False).head(5)\n",
    "    print a['recognized']\n",
    "    df_test1 = df.drop(['word','X','Y','time'], axis=1)\n",
    "    Y = df_test1.pop('countrycode')\n",
    "    b_loon = {'US': 0, 'RU':1, 'BR':2, 'KR':3}\n",
    "    Y = Y.map(b_loon)\n",
    "    X_train1, X_test1, y_train1, y_test1 = train_test_split(df_test1, Y)\n",
    "    RFC1 = RandomForestClassifier()\n",
    "    RFC1.fit(X_train1,y_train1)\n",
    "    score = RFC1.score(X_test1,y_test1)\n",
    "    return score,RFC1,df_test1,df"
   ]
  },
  {
   "cell_type": "code",
   "execution_count": 374,
   "metadata": {
    "collapsed": false
   },
   "outputs": [
    {
     "name": "stdout",
     "output_type": "stream",
     "text": [
      "total data points: 4602\n",
      "countrycode\n",
      "BR    1200\n",
      "RU    1200\n",
      "US    1200\n",
      "KR    1002\n",
      "Name: recognized, dtype: int64\n"
     ]
    },
    {
     "name": "stderr",
     "output_type": "stream",
     "text": [
      "/Users/keisukeirie/anaconda/lib/python2.7/site-packages/ipykernel/__main__.py:4: FutureWarning: sort(columns=....) is deprecated, use sort_values(by=.....)\n"
     ]
    }
   ],
   "source": [
    "wt,nt,modelwt,modelnt,df1,Y1 = randomforest_tester('./modified_data/aircraft_carrier.csv')"
   ]
  },
  {
   "cell_type": "code",
   "execution_count": 375,
   "metadata": {
    "collapsed": false
   },
   "outputs": [
    {
     "name": "stdout",
     "output_type": "stream",
     "text": [
      "aircraft career: 42.832319722% with time, 32.7541268462% with out time\n"
     ]
    }
   ],
   "source": [
    "print \"aircraft career: {}% with time, {}% with out time\".format(wt*100,nt*100)"
   ]
  },
  {
   "cell_type": "markdown",
   "metadata": {},
   "source": [
    "### car"
   ]
  },
  {
   "cell_type": "code",
   "execution_count": 376,
   "metadata": {
    "collapsed": false
   },
   "outputs": [
    {
     "name": "stdout",
     "output_type": "stream",
     "text": [
      "total data points: 13745\n",
      "countrycode\n",
      "BR    3500\n",
      "RU    3500\n",
      "US    3500\n",
      "KR    3245\n",
      "Name: recognized, dtype: int64\n"
     ]
    },
    {
     "name": "stderr",
     "output_type": "stream",
     "text": [
      "/Users/keisukeirie/anaconda/lib/python2.7/site-packages/ipykernel/__main__.py:4: FutureWarning: sort(columns=....) is deprecated, use sort_values(by=.....)\n"
     ]
    }
   ],
   "source": [
    "wt,nt,modelwt,modelnt,df2,Y2 = randomforest_tester('./modified_data/car.csv')"
   ]
  },
  {
   "cell_type": "code",
   "execution_count": 377,
   "metadata": {
    "collapsed": false
   },
   "outputs": [
    {
     "name": "stdout",
     "output_type": "stream",
     "text": [
      "Car: 50.8583066628% with time, 38.7838231015% with out time\n"
     ]
    }
   ],
   "source": [
    "print \"Car: {}% with time, {}% with out time\".format(wt*100,nt*100)"
   ]
  },
  {
   "cell_type": "markdown",
   "metadata": {},
   "source": [
    "### cellphone"
   ]
  },
  {
   "cell_type": "code",
   "execution_count": 378,
   "metadata": {
    "collapsed": false,
    "scrolled": true
   },
   "outputs": [
    {
     "name": "stdout",
     "output_type": "stream",
     "text": [
      "total data points: 8436\n",
      "countrycode\n",
      "BR    2200\n",
      "RU    2200\n",
      "US    2200\n",
      "KR    1836\n",
      "Name: recognized, dtype: int64\n"
     ]
    },
    {
     "name": "stderr",
     "output_type": "stream",
     "text": [
      "/Users/keisukeirie/anaconda/lib/python2.7/site-packages/ipykernel/__main__.py:4: FutureWarning: sort(columns=....) is deprecated, use sort_values(by=.....)\n"
     ]
    }
   ],
   "source": [
    "wt,nt,modelwt,modelnt,df3,Y3 = randomforest_tester('./modified_data/cellphone.csv')"
   ]
  },
  {
   "cell_type": "code",
   "execution_count": 379,
   "metadata": {
    "collapsed": false
   },
   "outputs": [
    {
     "name": "stdout",
     "output_type": "stream",
     "text": [
      "cell phone: 48.1744902798% with time, 38.2645803698% with out time\n"
     ]
    }
   ],
   "source": [
    "print \"cell phone: {}% with time, {}% with out time\".format(wt*100,nt*100)"
   ]
  },
  {
   "cell_type": "markdown",
   "metadata": {},
   "source": [
    "### Dragon"
   ]
  },
  {
   "cell_type": "code",
   "execution_count": 380,
   "metadata": {
    "collapsed": false
   },
   "outputs": [
    {
     "name": "stdout",
     "output_type": "stream",
     "text": [
      "total data points: 9342\n",
      "countrycode\n",
      "BR    2500\n",
      "RU    2500\n",
      "US    2500\n",
      "KR    1842\n",
      "Name: recognized, dtype: int64\n"
     ]
    },
    {
     "name": "stderr",
     "output_type": "stream",
     "text": [
      "/Users/keisukeirie/anaconda/lib/python2.7/site-packages/ipykernel/__main__.py:4: FutureWarning: sort(columns=....) is deprecated, use sort_values(by=.....)\n"
     ]
    }
   ],
   "source": [
    "wt,nt,modelwt,modelnt,df4,Y4 = randomforest_tester('./modified_data/dragon.csv')"
   ]
  },
  {
   "cell_type": "code",
   "execution_count": 381,
   "metadata": {
    "collapsed": false
   },
   "outputs": [
    {
     "name": "stdout",
     "output_type": "stream",
     "text": [
      "Dragon: 45.3767123288% with time, 32.3630136986% with out time\n"
     ]
    }
   ],
   "source": [
    "print \"Dragon: {}% with time, {}% with out time\".format(wt*100,nt*100)"
   ]
  },
  {
   "cell_type": "markdown",
   "metadata": {},
   "source": [
    "### Hat"
   ]
  },
  {
   "cell_type": "code",
   "execution_count": 382,
   "metadata": {
    "collapsed": false
   },
   "outputs": [
    {
     "name": "stdout",
     "output_type": "stream",
     "text": [
      "total data points: 13200\n",
      "countrycode\n",
      "BR    3300\n",
      "KR    3300\n",
      "RU    3300\n",
      "US    3300\n",
      "Name: recognized, dtype: int64\n"
     ]
    },
    {
     "name": "stderr",
     "output_type": "stream",
     "text": [
      "/Users/keisukeirie/anaconda/lib/python2.7/site-packages/ipykernel/__main__.py:4: FutureWarning: sort(columns=....) is deprecated, use sort_values(by=.....)\n"
     ]
    }
   ],
   "source": [
    "wt,nt,modelwt,modelnt,df5,Y5 = randomforest_tester('./modified_data/hat.csv')"
   ]
  },
  {
   "cell_type": "code",
   "execution_count": 383,
   "metadata": {
    "collapsed": false
   },
   "outputs": [
    {
     "name": "stdout",
     "output_type": "stream",
     "text": [
      "Hat: 48.9090909091% with time, 36.303030303% with out time\n"
     ]
    }
   ],
   "source": [
    "print \"Hat: {}% with time, {}% with out time\".format(wt*100,nt*100)"
   ]
  },
  {
   "cell_type": "markdown",
   "metadata": {},
   "source": [
    "### ice cream"
   ]
  },
  {
   "cell_type": "code",
   "execution_count": 384,
   "metadata": {
    "collapsed": false
   },
   "outputs": [
    {
     "name": "stdout",
     "output_type": "stream",
     "text": [
      "total data points: 7752\n",
      "countrycode\n",
      "BR    2000\n",
      "RU    2000\n",
      "US    2000\n",
      "KR    1752\n",
      "Name: recognized, dtype: int64\n"
     ]
    },
    {
     "name": "stderr",
     "output_type": "stream",
     "text": [
      "/Users/keisukeirie/anaconda/lib/python2.7/site-packages/ipykernel/__main__.py:4: FutureWarning: sort(columns=....) is deprecated, use sort_values(by=.....)\n"
     ]
    }
   ],
   "source": [
    "wt,nt,modelwt,modelnt,df6,Y6 = randomforest_tester('./modified_data/ice_cream.csv')"
   ]
  },
  {
   "cell_type": "code",
   "execution_count": 385,
   "metadata": {
    "collapsed": false
   },
   "outputs": [
    {
     "name": "stdout",
     "output_type": "stream",
     "text": [
      "ice cream: 48.9680082559% with time, 35.4489164087% with out time\n"
     ]
    }
   ],
   "source": [
    "print \"ice cream: {}% with time, {}% with out time\".format(wt*100,nt*100)"
   ]
  },
  {
   "cell_type": "markdown",
   "metadata": {},
   "source": [
    "### monkey"
   ]
  },
  {
   "cell_type": "code",
   "execution_count": 386,
   "metadata": {
    "collapsed": false
   },
   "outputs": [
    {
     "name": "stdout",
     "output_type": "stream",
     "text": [
      "total data points: 7344\n",
      "countrycode\n",
      "RU    2000\n",
      "US    2000\n",
      "KR    1782\n",
      "BR    1562\n",
      "Name: recognized, dtype: int64\n"
     ]
    },
    {
     "name": "stderr",
     "output_type": "stream",
     "text": [
      "/Users/keisukeirie/anaconda/lib/python2.7/site-packages/ipykernel/__main__.py:4: FutureWarning: sort(columns=....) is deprecated, use sort_values(by=.....)\n"
     ]
    }
   ],
   "source": [
    "wt,nt,modelwt,modelnt,df7,Y7 = randomforest_tester('./modified_data/monkey.csv')"
   ]
  },
  {
   "cell_type": "code",
   "execution_count": 387,
   "metadata": {
    "collapsed": false
   },
   "outputs": [
    {
     "name": "stdout",
     "output_type": "stream",
     "text": [
      "monkey: 46.2962962963% with time, 36.8736383442% with out time\n"
     ]
    }
   ],
   "source": [
    "print \"monkey: {}% with time, {}% with out time\".format(wt*100,nt*100)"
   ]
  },
  {
   "cell_type": "markdown",
   "metadata": {},
   "source": [
    "### moon"
   ]
  },
  {
   "cell_type": "code",
   "execution_count": 388,
   "metadata": {
    "collapsed": false
   },
   "outputs": [
    {
     "name": "stdout",
     "output_type": "stream",
     "text": [
      "total data points: 8000\n",
      "countrycode\n",
      "BR    2000\n",
      "KR    2000\n",
      "RU    2000\n",
      "US    2000\n",
      "Name: recognized, dtype: int64\n"
     ]
    },
    {
     "name": "stderr",
     "output_type": "stream",
     "text": [
      "/Users/keisukeirie/anaconda/lib/python2.7/site-packages/ipykernel/__main__.py:4: FutureWarning: sort(columns=....) is deprecated, use sort_values(by=.....)\n"
     ]
    }
   ],
   "source": [
    "wt,nt,modelwt,modelnt,df8,Y8 = randomforest_tester('./modified_data/moon.csv')"
   ]
  },
  {
   "cell_type": "code",
   "execution_count": 389,
   "metadata": {
    "collapsed": false
   },
   "outputs": [
    {
     "name": "stdout",
     "output_type": "stream",
     "text": [
      "moon: 49.0% with time, 35.4% with out time\n"
     ]
    }
   ],
   "source": [
    "print \"moon: {}% with time, {}% with out time\".format(wt*100,nt*100)"
   ]
  },
  {
   "cell_type": "markdown",
   "metadata": {},
   "source": [
    "### rabbit"
   ]
  },
  {
   "cell_type": "code",
   "execution_count": 390,
   "metadata": {
    "collapsed": false
   },
   "outputs": [
    {
     "name": "stdout",
     "output_type": "stream",
     "text": [
      "total data points: 11877\n",
      "countrycode\n",
      "KR    3000\n",
      "RU    3000\n",
      "US    3000\n",
      "BR    2877\n",
      "Name: recognized, dtype: int64\n"
     ]
    },
    {
     "name": "stderr",
     "output_type": "stream",
     "text": [
      "/Users/keisukeirie/anaconda/lib/python2.7/site-packages/ipykernel/__main__.py:4: FutureWarning: sort(columns=....) is deprecated, use sort_values(by=.....)\n"
     ]
    }
   ],
   "source": [
    "wt,nt,modelwt,modelnt,df9,Y9= randomforest_tester('./modified_data/rabbit.csv')"
   ]
  },
  {
   "cell_type": "code",
   "execution_count": 391,
   "metadata": {
    "collapsed": false
   },
   "outputs": [
    {
     "name": "stdout",
     "output_type": "stream",
     "text": [
      "rabbit: 48.6531986532% with time, 36.5993265993% with out time\n"
     ]
    }
   ],
   "source": [
    "print \"rabbit: {}% with time, {}% with out time\".format(wt*100,nt*100)"
   ]
  },
  {
   "cell_type": "markdown",
   "metadata": {},
   "source": [
    "### train"
   ]
  },
  {
   "cell_type": "code",
   "execution_count": 392,
   "metadata": {
    "collapsed": false
   },
   "outputs": [
    {
     "name": "stdout",
     "output_type": "stream",
     "text": [
      "total data points: 8600\n",
      "countrycode\n",
      "BR    2150\n",
      "KR    2150\n",
      "RU    2150\n",
      "US    2150\n",
      "Name: recognized, dtype: int64\n"
     ]
    },
    {
     "name": "stderr",
     "output_type": "stream",
     "text": [
      "/Users/keisukeirie/anaconda/lib/python2.7/site-packages/ipykernel/__main__.py:4: FutureWarning: sort(columns=....) is deprecated, use sort_values(by=.....)\n"
     ]
    }
   ],
   "source": [
    "wt,nt,modelwt,modelnt,df10,Y10= randomforest_tester('./modified_data/train.csv')"
   ]
  },
  {
   "cell_type": "code",
   "execution_count": 393,
   "metadata": {
    "collapsed": false
   },
   "outputs": [
    {
     "name": "stdout",
     "output_type": "stream",
     "text": [
      "train: 47.0697674419% with time, 35.488372093% with out time\n"
     ]
    }
   ],
   "source": [
    "print \"train: {}% with time, {}% with out time\".format(wt*100,nt*100)"
   ]
  },
  {
   "cell_type": "markdown",
   "metadata": {},
   "source": [
    "### mountain"
   ]
  },
  {
   "cell_type": "code",
   "execution_count": 394,
   "metadata": {
    "collapsed": false
   },
   "outputs": [
    {
     "name": "stdout",
     "output_type": "stream",
     "text": [
      "total data points: 8788\n",
      "countrycode\n",
      "BR    2300\n",
      "RU    2300\n",
      "US    2300\n",
      "KR    1888\n",
      "Name: recognized, dtype: int64\n"
     ]
    },
    {
     "name": "stderr",
     "output_type": "stream",
     "text": [
      "/Users/keisukeirie/anaconda/lib/python2.7/site-packages/ipykernel/__main__.py:4: FutureWarning: sort(columns=....) is deprecated, use sort_values(by=.....)\n"
     ]
    }
   ],
   "source": [
    "wt,nt,modelwt,modelnt,df11,Y11 = randomforest_tester('./modified_data/mountain.csv')"
   ]
  },
  {
   "cell_type": "code",
   "execution_count": null,
   "metadata": {
    "collapsed": true
   },
   "outputs": [],
   "source": [
    "score, model,df,orig_df = randomforest_pkl('./modified_data/m')"
   ]
  },
  {
   "cell_type": "code",
   "execution_count": 395,
   "metadata": {
    "collapsed": false
   },
   "outputs": [
    {
     "name": "stdout",
     "output_type": "stream",
     "text": [
      "mountain: 47.4283113336% with time, 38.2794720073% with out time\n"
     ]
    }
   ],
   "source": [
    "print \"mountain: {}% with time, {}% with out time\".format(wt*100,nt*100)"
   ]
  },
  {
   "cell_type": "markdown",
   "metadata": {},
   "source": [
    "### telephone"
   ]
  },
  {
   "cell_type": "code",
   "execution_count": 396,
   "metadata": {
    "collapsed": false
   },
   "outputs": [
    {
     "name": "stdout",
     "output_type": "stream",
     "text": [
      "total data points: 7786\n",
      "countrycode\n",
      "BR    2000\n",
      "RU    2000\n",
      "US    2000\n",
      "KR    1786\n",
      "Name: recognized, dtype: int64\n"
     ]
    },
    {
     "name": "stderr",
     "output_type": "stream",
     "text": [
      "/Users/keisukeirie/anaconda/lib/python2.7/site-packages/ipykernel/__main__.py:4: FutureWarning: sort(columns=....) is deprecated, use sort_values(by=.....)\n"
     ]
    }
   ],
   "source": [
    "wt,nt,modelwt,modelnt,df12,Y12 = randomforest_tester('./modified_data/telephone.pkl')"
   ]
  },
  {
   "cell_type": "code",
   "execution_count": 10,
   "metadata": {
    "collapsed": false
   },
   "outputs": [
    {
     "name": "stdout",
     "output_type": "stream",
     "text": [
      "total data points: 7786\n",
      "countrycode\n",
      "BR    2000\n",
      "RU    2000\n",
      "US    2000\n",
      "KR    1786\n",
      "Name: recognized, dtype: int64\n"
     ]
    },
    {
     "name": "stderr",
     "output_type": "stream",
     "text": [
      "/Users/keisukeirie/anaconda/lib/python2.7/site-packages/ipykernel/__main__.py:4: FutureWarning: sort(columns=....) is deprecated, use sort_values(by=.....)\n"
     ]
    }
   ],
   "source": [
    "score, model,df,orig_df = randomforest_pkl('./modified_data/telephone.pkl')"
   ]
  },
  {
   "cell_type": "code",
   "execution_count": 397,
   "metadata": {
    "collapsed": false
   },
   "outputs": [
    {
     "name": "stdout",
     "output_type": "stream",
     "text": [
      "telephone: 47.7657935285% with time, 36.5177195686% with out time\n"
     ]
    }
   ],
   "source": [
    "print \"telephone: {}% with time, {}% with out time\".format(wt*100,nt*100)"
   ]
  },
  {
   "cell_type": "code",
   "execution_count": 14,
   "metadata": {
    "collapsed": false
   },
   "outputs": [
    {
     "data": {
      "text/plain": [
       "'time_per_stroke_0'"
      ]
     },
     "execution_count": 14,
     "metadata": {},
     "output_type": "execute_result"
    }
   ],
   "source": []
  },
  {
   "cell_type": "markdown",
   "metadata": {},
   "source": [
    "## combined"
   ]
  },
  {
   "cell_type": "code",
   "execution_count": 451,
   "metadata": {
    "collapsed": true
   },
   "outputs": [],
   "source": [
    "df_combine =pd.concat([df1,df2,df3,df4,df5,df6,df7,df8,df9,df10,df11,df12], axis=0)\n",
    "new_df =pd.concat([Y1,Y2,Y3,Y4,Y5,Y6,Y7,Y8,Y9,Y10,Y11,Y12], axis=0)"
   ]
  },
  {
   "cell_type": "code",
   "execution_count": 399,
   "metadata": {
    "collapsed": false,
    "scrolled": false
   },
   "outputs": [
    {
     "data": {
      "text/html": [
       "<div>\n",
       "<table border=\"1\" class=\"dataframe\">\n",
       "  <thead>\n",
       "    <tr style=\"text-align: right;\">\n",
       "      <th></th>\n",
       "      <th>Unnamed: 0</th>\n",
       "      <th>countrycode</th>\n",
       "      <th>key_id</th>\n",
       "      <th>recognized</th>\n",
       "      <th>word</th>\n",
       "      <th>stroke_number</th>\n",
       "      <th>final_time</th>\n",
       "      <th>first_X</th>\n",
       "      <th>first_Y</th>\n",
       "      <th>year</th>\n",
       "      <th>...</th>\n",
       "      <th>time_per_stroke_27</th>\n",
       "      <th>dp_per_stroke_27</th>\n",
       "      <th>slope_28</th>\n",
       "      <th>direction_28</th>\n",
       "      <th>time_per_stroke_28</th>\n",
       "      <th>dp_per_stroke_28</th>\n",
       "      <th>slope_29</th>\n",
       "      <th>direction_29</th>\n",
       "      <th>time_per_stroke_29</th>\n",
       "      <th>dp_per_stroke_29</th>\n",
       "    </tr>\n",
       "  </thead>\n",
       "  <tbody>\n",
       "    <tr>\n",
       "      <th>8</th>\n",
       "      <td>41854</td>\n",
       "      <td>US</td>\n",
       "      <td>5568865213874176</td>\n",
       "      <td>1</td>\n",
       "      <td>monkey</td>\n",
       "      <td>12</td>\n",
       "      <td>13036</td>\n",
       "      <td>120.000000</td>\n",
       "      <td>199.000000</td>\n",
       "      <td>2017</td>\n",
       "      <td>...</td>\n",
       "      <td>0</td>\n",
       "      <td>0</td>\n",
       "      <td>0.0</td>\n",
       "      <td>0.0</td>\n",
       "      <td>0</td>\n",
       "      <td>0</td>\n",
       "      <td>0.0</td>\n",
       "      <td>0.0</td>\n",
       "      <td>0</td>\n",
       "      <td>0</td>\n",
       "    </tr>\n",
       "    <tr>\n",
       "      <th>34</th>\n",
       "      <td>107354</td>\n",
       "      <td>US</td>\n",
       "      <td>5179400599371776</td>\n",
       "      <td>1</td>\n",
       "      <td>monkey</td>\n",
       "      <td>6</td>\n",
       "      <td>4366</td>\n",
       "      <td>194.412003</td>\n",
       "      <td>176.234985</td>\n",
       "      <td>2017</td>\n",
       "      <td>...</td>\n",
       "      <td>0</td>\n",
       "      <td>0</td>\n",
       "      <td>0.0</td>\n",
       "      <td>0.0</td>\n",
       "      <td>0</td>\n",
       "      <td>0</td>\n",
       "      <td>0.0</td>\n",
       "      <td>0.0</td>\n",
       "      <td>0</td>\n",
       "      <td>0</td>\n",
       "    </tr>\n",
       "    <tr>\n",
       "      <th>45</th>\n",
       "      <td>48423</td>\n",
       "      <td>US</td>\n",
       "      <td>6650002099142656</td>\n",
       "      <td>1</td>\n",
       "      <td>monkey</td>\n",
       "      <td>13</td>\n",
       "      <td>15205</td>\n",
       "      <td>171.000000</td>\n",
       "      <td>144.000000</td>\n",
       "      <td>2017</td>\n",
       "      <td>...</td>\n",
       "      <td>0</td>\n",
       "      <td>0</td>\n",
       "      <td>0.0</td>\n",
       "      <td>0.0</td>\n",
       "      <td>0</td>\n",
       "      <td>0</td>\n",
       "      <td>0.0</td>\n",
       "      <td>0.0</td>\n",
       "      <td>0</td>\n",
       "      <td>0</td>\n",
       "    </tr>\n",
       "    <tr>\n",
       "      <th>87</th>\n",
       "      <td>78530</td>\n",
       "      <td>US</td>\n",
       "      <td>6493301022654464</td>\n",
       "      <td>1</td>\n",
       "      <td>monkey</td>\n",
       "      <td>6</td>\n",
       "      <td>4825</td>\n",
       "      <td>169.000000</td>\n",
       "      <td>63.000000</td>\n",
       "      <td>2017</td>\n",
       "      <td>...</td>\n",
       "      <td>0</td>\n",
       "      <td>0</td>\n",
       "      <td>0.0</td>\n",
       "      <td>0.0</td>\n",
       "      <td>0</td>\n",
       "      <td>0</td>\n",
       "      <td>0.0</td>\n",
       "      <td>0.0</td>\n",
       "      <td>0</td>\n",
       "      <td>0</td>\n",
       "    </tr>\n",
       "    <tr>\n",
       "      <th>90</th>\n",
       "      <td>119170</td>\n",
       "      <td>US</td>\n",
       "      <td>5724100632772608</td>\n",
       "      <td>1</td>\n",
       "      <td>monkey</td>\n",
       "      <td>12</td>\n",
       "      <td>15938</td>\n",
       "      <td>478.000000</td>\n",
       "      <td>48.000000</td>\n",
       "      <td>2017</td>\n",
       "      <td>...</td>\n",
       "      <td>0</td>\n",
       "      <td>0</td>\n",
       "      <td>0.0</td>\n",
       "      <td>0.0</td>\n",
       "      <td>0</td>\n",
       "      <td>0</td>\n",
       "      <td>0.0</td>\n",
       "      <td>0.0</td>\n",
       "      <td>0</td>\n",
       "      <td>0</td>\n",
       "    </tr>\n",
       "    <tr>\n",
       "      <th>101</th>\n",
       "      <td>103925</td>\n",
       "      <td>US</td>\n",
       "      <td>4948208784506880</td>\n",
       "      <td>1</td>\n",
       "      <td>monkey</td>\n",
       "      <td>7</td>\n",
       "      <td>8398</td>\n",
       "      <td>386.000000</td>\n",
       "      <td>255.000000</td>\n",
       "      <td>2017</td>\n",
       "      <td>...</td>\n",
       "      <td>0</td>\n",
       "      <td>0</td>\n",
       "      <td>0.0</td>\n",
       "      <td>0.0</td>\n",
       "      <td>0</td>\n",
       "      <td>0</td>\n",
       "      <td>0.0</td>\n",
       "      <td>0.0</td>\n",
       "      <td>0</td>\n",
       "      <td>0</td>\n",
       "    </tr>\n",
       "    <tr>\n",
       "      <th>106</th>\n",
       "      <td>116778</td>\n",
       "      <td>US</td>\n",
       "      <td>6711385234866176</td>\n",
       "      <td>1</td>\n",
       "      <td>monkey</td>\n",
       "      <td>5</td>\n",
       "      <td>9466</td>\n",
       "      <td>602.000000</td>\n",
       "      <td>295.000000</td>\n",
       "      <td>2017</td>\n",
       "      <td>...</td>\n",
       "      <td>0</td>\n",
       "      <td>0</td>\n",
       "      <td>0.0</td>\n",
       "      <td>0.0</td>\n",
       "      <td>0</td>\n",
       "      <td>0</td>\n",
       "      <td>0.0</td>\n",
       "      <td>0.0</td>\n",
       "      <td>0</td>\n",
       "      <td>0</td>\n",
       "    </tr>\n",
       "    <tr>\n",
       "      <th>123</th>\n",
       "      <td>67852</td>\n",
       "      <td>US</td>\n",
       "      <td>6028546638086144</td>\n",
       "      <td>1</td>\n",
       "      <td>monkey</td>\n",
       "      <td>14</td>\n",
       "      <td>20295</td>\n",
       "      <td>318.000000</td>\n",
       "      <td>170.000000</td>\n",
       "      <td>2017</td>\n",
       "      <td>...</td>\n",
       "      <td>0</td>\n",
       "      <td>0</td>\n",
       "      <td>0.0</td>\n",
       "      <td>0.0</td>\n",
       "      <td>0</td>\n",
       "      <td>0</td>\n",
       "      <td>0.0</td>\n",
       "      <td>0.0</td>\n",
       "      <td>0</td>\n",
       "      <td>0</td>\n",
       "    </tr>\n",
       "    <tr>\n",
       "      <th>124</th>\n",
       "      <td>82462</td>\n",
       "      <td>US</td>\n",
       "      <td>6123684525768704</td>\n",
       "      <td>1</td>\n",
       "      <td>monkey</td>\n",
       "      <td>10</td>\n",
       "      <td>10148</td>\n",
       "      <td>617.500000</td>\n",
       "      <td>216.900002</td>\n",
       "      <td>2017</td>\n",
       "      <td>...</td>\n",
       "      <td>0</td>\n",
       "      <td>0</td>\n",
       "      <td>0.0</td>\n",
       "      <td>0.0</td>\n",
       "      <td>0</td>\n",
       "      <td>0</td>\n",
       "      <td>0.0</td>\n",
       "      <td>0.0</td>\n",
       "      <td>0</td>\n",
       "      <td>0</td>\n",
       "    </tr>\n",
       "    <tr>\n",
       "      <th>169</th>\n",
       "      <td>27504</td>\n",
       "      <td>US</td>\n",
       "      <td>5732183425679360</td>\n",
       "      <td>1</td>\n",
       "      <td>monkey</td>\n",
       "      <td>13</td>\n",
       "      <td>16184</td>\n",
       "      <td>1122.000000</td>\n",
       "      <td>323.000000</td>\n",
       "      <td>2017</td>\n",
       "      <td>...</td>\n",
       "      <td>0</td>\n",
       "      <td>0</td>\n",
       "      <td>0.0</td>\n",
       "      <td>0.0</td>\n",
       "      <td>0</td>\n",
       "      <td>0</td>\n",
       "      <td>0.0</td>\n",
       "      <td>0.0</td>\n",
       "      <td>0</td>\n",
       "      <td>0</td>\n",
       "    </tr>\n",
       "    <tr>\n",
       "      <th>197</th>\n",
       "      <td>92067</td>\n",
       "      <td>US</td>\n",
       "      <td>5293782155132928</td>\n",
       "      <td>1</td>\n",
       "      <td>monkey</td>\n",
       "      <td>10</td>\n",
       "      <td>12019</td>\n",
       "      <td>193.000000</td>\n",
       "      <td>111.000000</td>\n",
       "      <td>2017</td>\n",
       "      <td>...</td>\n",
       "      <td>0</td>\n",
       "      <td>0</td>\n",
       "      <td>0.0</td>\n",
       "      <td>0.0</td>\n",
       "      <td>0</td>\n",
       "      <td>0</td>\n",
       "      <td>0.0</td>\n",
       "      <td>0.0</td>\n",
       "      <td>0</td>\n",
       "      <td>0</td>\n",
       "    </tr>\n",
       "    <tr>\n",
       "      <th>199</th>\n",
       "      <td>63813</td>\n",
       "      <td>US</td>\n",
       "      <td>5546895113977856</td>\n",
       "      <td>1</td>\n",
       "      <td>monkey</td>\n",
       "      <td>8</td>\n",
       "      <td>9253</td>\n",
       "      <td>598.750000</td>\n",
       "      <td>506.773010</td>\n",
       "      <td>2017</td>\n",
       "      <td>...</td>\n",
       "      <td>0</td>\n",
       "      <td>0</td>\n",
       "      <td>0.0</td>\n",
       "      <td>0.0</td>\n",
       "      <td>0</td>\n",
       "      <td>0</td>\n",
       "      <td>0.0</td>\n",
       "      <td>0.0</td>\n",
       "      <td>0</td>\n",
       "      <td>0</td>\n",
       "    </tr>\n",
       "    <tr>\n",
       "      <th>210</th>\n",
       "      <td>75465</td>\n",
       "      <td>US</td>\n",
       "      <td>5926536601403392</td>\n",
       "      <td>1</td>\n",
       "      <td>monkey</td>\n",
       "      <td>6</td>\n",
       "      <td>5001</td>\n",
       "      <td>181.000000</td>\n",
       "      <td>125.000000</td>\n",
       "      <td>2017</td>\n",
       "      <td>...</td>\n",
       "      <td>0</td>\n",
       "      <td>0</td>\n",
       "      <td>0.0</td>\n",
       "      <td>0.0</td>\n",
       "      <td>0</td>\n",
       "      <td>0</td>\n",
       "      <td>0.0</td>\n",
       "      <td>0.0</td>\n",
       "      <td>0</td>\n",
       "      <td>0</td>\n",
       "    </tr>\n",
       "    <tr>\n",
       "      <th>212</th>\n",
       "      <td>100116</td>\n",
       "      <td>US</td>\n",
       "      <td>4900645343592448</td>\n",
       "      <td>1</td>\n",
       "      <td>monkey</td>\n",
       "      <td>6</td>\n",
       "      <td>10710</td>\n",
       "      <td>685.000000</td>\n",
       "      <td>212.000000</td>\n",
       "      <td>2017</td>\n",
       "      <td>...</td>\n",
       "      <td>0</td>\n",
       "      <td>0</td>\n",
       "      <td>0.0</td>\n",
       "      <td>0.0</td>\n",
       "      <td>0</td>\n",
       "      <td>0</td>\n",
       "      <td>0.0</td>\n",
       "      <td>0.0</td>\n",
       "      <td>0</td>\n",
       "      <td>0</td>\n",
       "    </tr>\n",
       "    <tr>\n",
       "      <th>245</th>\n",
       "      <td>47958</td>\n",
       "      <td>US</td>\n",
       "      <td>5672268162138112</td>\n",
       "      <td>1</td>\n",
       "      <td>monkey</td>\n",
       "      <td>12</td>\n",
       "      <td>12818</td>\n",
       "      <td>616.000000</td>\n",
       "      <td>419.199997</td>\n",
       "      <td>2017</td>\n",
       "      <td>...</td>\n",
       "      <td>0</td>\n",
       "      <td>0</td>\n",
       "      <td>0.0</td>\n",
       "      <td>0.0</td>\n",
       "      <td>0</td>\n",
       "      <td>0</td>\n",
       "      <td>0.0</td>\n",
       "      <td>0.0</td>\n",
       "      <td>0</td>\n",
       "      <td>0</td>\n",
       "    </tr>\n",
       "    <tr>\n",
       "      <th>296</th>\n",
       "      <td>92213</td>\n",
       "      <td>US</td>\n",
       "      <td>4903765704441856</td>\n",
       "      <td>1</td>\n",
       "      <td>monkey</td>\n",
       "      <td>8</td>\n",
       "      <td>9726</td>\n",
       "      <td>280.000000</td>\n",
       "      <td>316.000000</td>\n",
       "      <td>2017</td>\n",
       "      <td>...</td>\n",
       "      <td>0</td>\n",
       "      <td>0</td>\n",
       "      <td>0.0</td>\n",
       "      <td>0.0</td>\n",
       "      <td>0</td>\n",
       "      <td>0</td>\n",
       "      <td>0.0</td>\n",
       "      <td>0.0</td>\n",
       "      <td>0</td>\n",
       "      <td>0</td>\n",
       "    </tr>\n",
       "    <tr>\n",
       "      <th>311</th>\n",
       "      <td>25677</td>\n",
       "      <td>US</td>\n",
       "      <td>4585199792816128</td>\n",
       "      <td>1</td>\n",
       "      <td>monkey</td>\n",
       "      <td>11</td>\n",
       "      <td>9720</td>\n",
       "      <td>798.000000</td>\n",
       "      <td>155.199997</td>\n",
       "      <td>2017</td>\n",
       "      <td>...</td>\n",
       "      <td>0</td>\n",
       "      <td>0</td>\n",
       "      <td>0.0</td>\n",
       "      <td>0.0</td>\n",
       "      <td>0</td>\n",
       "      <td>0</td>\n",
       "      <td>0.0</td>\n",
       "      <td>0.0</td>\n",
       "      <td>0</td>\n",
       "      <td>0</td>\n",
       "    </tr>\n",
       "    <tr>\n",
       "      <th>318</th>\n",
       "      <td>48397</td>\n",
       "      <td>US</td>\n",
       "      <td>5860073660219392</td>\n",
       "      <td>1</td>\n",
       "      <td>monkey</td>\n",
       "      <td>9</td>\n",
       "      <td>11078</td>\n",
       "      <td>542.000000</td>\n",
       "      <td>278.000000</td>\n",
       "      <td>2017</td>\n",
       "      <td>...</td>\n",
       "      <td>0</td>\n",
       "      <td>0</td>\n",
       "      <td>0.0</td>\n",
       "      <td>0.0</td>\n",
       "      <td>0</td>\n",
       "      <td>0</td>\n",
       "      <td>0.0</td>\n",
       "      <td>0.0</td>\n",
       "      <td>0</td>\n",
       "      <td>0</td>\n",
       "    </tr>\n",
       "    <tr>\n",
       "      <th>340</th>\n",
       "      <td>45489</td>\n",
       "      <td>US</td>\n",
       "      <td>4525474648686592</td>\n",
       "      <td>1</td>\n",
       "      <td>monkey</td>\n",
       "      <td>8</td>\n",
       "      <td>3578</td>\n",
       "      <td>668.148010</td>\n",
       "      <td>134.770996</td>\n",
       "      <td>2017</td>\n",
       "      <td>...</td>\n",
       "      <td>0</td>\n",
       "      <td>0</td>\n",
       "      <td>0.0</td>\n",
       "      <td>0.0</td>\n",
       "      <td>0</td>\n",
       "      <td>0</td>\n",
       "      <td>0.0</td>\n",
       "      <td>0.0</td>\n",
       "      <td>0</td>\n",
       "      <td>0</td>\n",
       "    </tr>\n",
       "    <tr>\n",
       "      <th>341</th>\n",
       "      <td>105963</td>\n",
       "      <td>US</td>\n",
       "      <td>6620417156448256</td>\n",
       "      <td>1</td>\n",
       "      <td>monkey</td>\n",
       "      <td>5</td>\n",
       "      <td>5055</td>\n",
       "      <td>464.000000</td>\n",
       "      <td>195.000000</td>\n",
       "      <td>2017</td>\n",
       "      <td>...</td>\n",
       "      <td>0</td>\n",
       "      <td>0</td>\n",
       "      <td>0.0</td>\n",
       "      <td>0.0</td>\n",
       "      <td>0</td>\n",
       "      <td>0</td>\n",
       "      <td>0.0</td>\n",
       "      <td>0.0</td>\n",
       "      <td>0</td>\n",
       "      <td>0</td>\n",
       "    </tr>\n",
       "    <tr>\n",
       "      <th>379</th>\n",
       "      <td>51329</td>\n",
       "      <td>US</td>\n",
       "      <td>5572646597033984</td>\n",
       "      <td>1</td>\n",
       "      <td>monkey</td>\n",
       "      <td>16</td>\n",
       "      <td>20680</td>\n",
       "      <td>485.000000</td>\n",
       "      <td>77.000000</td>\n",
       "      <td>2017</td>\n",
       "      <td>...</td>\n",
       "      <td>0</td>\n",
       "      <td>0</td>\n",
       "      <td>0.0</td>\n",
       "      <td>0.0</td>\n",
       "      <td>0</td>\n",
       "      <td>0</td>\n",
       "      <td>0.0</td>\n",
       "      <td>0.0</td>\n",
       "      <td>0</td>\n",
       "      <td>0</td>\n",
       "    </tr>\n",
       "    <tr>\n",
       "      <th>381</th>\n",
       "      <td>26163</td>\n",
       "      <td>US</td>\n",
       "      <td>4835963513602048</td>\n",
       "      <td>1</td>\n",
       "      <td>monkey</td>\n",
       "      <td>10</td>\n",
       "      <td>18757</td>\n",
       "      <td>959.000000</td>\n",
       "      <td>560.000000</td>\n",
       "      <td>2017</td>\n",
       "      <td>...</td>\n",
       "      <td>0</td>\n",
       "      <td>0</td>\n",
       "      <td>0.0</td>\n",
       "      <td>0.0</td>\n",
       "      <td>0</td>\n",
       "      <td>0</td>\n",
       "      <td>0.0</td>\n",
       "      <td>0.0</td>\n",
       "      <td>0</td>\n",
       "      <td>0</td>\n",
       "    </tr>\n",
       "    <tr>\n",
       "      <th>389</th>\n",
       "      <td>11109</td>\n",
       "      <td>US</td>\n",
       "      <td>6491549615521792</td>\n",
       "      <td>1</td>\n",
       "      <td>monkey</td>\n",
       "      <td>7</td>\n",
       "      <td>6250</td>\n",
       "      <td>759.354004</td>\n",
       "      <td>143.869003</td>\n",
       "      <td>2017</td>\n",
       "      <td>...</td>\n",
       "      <td>0</td>\n",
       "      <td>0</td>\n",
       "      <td>0.0</td>\n",
       "      <td>0.0</td>\n",
       "      <td>0</td>\n",
       "      <td>0</td>\n",
       "      <td>0.0</td>\n",
       "      <td>0.0</td>\n",
       "      <td>0</td>\n",
       "      <td>0</td>\n",
       "    </tr>\n",
       "    <tr>\n",
       "      <th>392</th>\n",
       "      <td>9520</td>\n",
       "      <td>US</td>\n",
       "      <td>5342453261402112</td>\n",
       "      <td>1</td>\n",
       "      <td>monkey</td>\n",
       "      <td>8</td>\n",
       "      <td>14203</td>\n",
       "      <td>630.000000</td>\n",
       "      <td>129.000000</td>\n",
       "      <td>2017</td>\n",
       "      <td>...</td>\n",
       "      <td>0</td>\n",
       "      <td>0</td>\n",
       "      <td>0.0</td>\n",
       "      <td>0.0</td>\n",
       "      <td>0</td>\n",
       "      <td>0</td>\n",
       "      <td>0.0</td>\n",
       "      <td>0.0</td>\n",
       "      <td>0</td>\n",
       "      <td>0</td>\n",
       "    </tr>\n",
       "    <tr>\n",
       "      <th>415</th>\n",
       "      <td>34217</td>\n",
       "      <td>US</td>\n",
       "      <td>5468931156344832</td>\n",
       "      <td>1</td>\n",
       "      <td>monkey</td>\n",
       "      <td>11</td>\n",
       "      <td>9679</td>\n",
       "      <td>364.000000</td>\n",
       "      <td>314.000000</td>\n",
       "      <td>2017</td>\n",
       "      <td>...</td>\n",
       "      <td>0</td>\n",
       "      <td>0</td>\n",
       "      <td>0.0</td>\n",
       "      <td>0.0</td>\n",
       "      <td>0</td>\n",
       "      <td>0</td>\n",
       "      <td>0.0</td>\n",
       "      <td>0.0</td>\n",
       "      <td>0</td>\n",
       "      <td>0</td>\n",
       "    </tr>\n",
       "    <tr>\n",
       "      <th>420</th>\n",
       "      <td>77905</td>\n",
       "      <td>US</td>\n",
       "      <td>6396239123841024</td>\n",
       "      <td>1</td>\n",
       "      <td>monkey</td>\n",
       "      <td>11</td>\n",
       "      <td>19405</td>\n",
       "      <td>698.000000</td>\n",
       "      <td>228.000000</td>\n",
       "      <td>2017</td>\n",
       "      <td>...</td>\n",
       "      <td>0</td>\n",
       "      <td>0</td>\n",
       "      <td>0.0</td>\n",
       "      <td>0.0</td>\n",
       "      <td>0</td>\n",
       "      <td>0</td>\n",
       "      <td>0.0</td>\n",
       "      <td>0.0</td>\n",
       "      <td>0</td>\n",
       "      <td>0</td>\n",
       "    </tr>\n",
       "    <tr>\n",
       "      <th>427</th>\n",
       "      <td>110958</td>\n",
       "      <td>US</td>\n",
       "      <td>6548389346934784</td>\n",
       "      <td>1</td>\n",
       "      <td>monkey</td>\n",
       "      <td>8</td>\n",
       "      <td>10227</td>\n",
       "      <td>604.000000</td>\n",
       "      <td>211.000000</td>\n",
       "      <td>2017</td>\n",
       "      <td>...</td>\n",
       "      <td>0</td>\n",
       "      <td>0</td>\n",
       "      <td>0.0</td>\n",
       "      <td>0.0</td>\n",
       "      <td>0</td>\n",
       "      <td>0</td>\n",
       "      <td>0.0</td>\n",
       "      <td>0.0</td>\n",
       "      <td>0</td>\n",
       "      <td>0</td>\n",
       "    </tr>\n",
       "    <tr>\n",
       "      <th>486</th>\n",
       "      <td>113575</td>\n",
       "      <td>US</td>\n",
       "      <td>5197538581807104</td>\n",
       "      <td>1</td>\n",
       "      <td>monkey</td>\n",
       "      <td>12</td>\n",
       "      <td>12425</td>\n",
       "      <td>562.000000</td>\n",
       "      <td>135.000000</td>\n",
       "      <td>2017</td>\n",
       "      <td>...</td>\n",
       "      <td>0</td>\n",
       "      <td>0</td>\n",
       "      <td>0.0</td>\n",
       "      <td>0.0</td>\n",
       "      <td>0</td>\n",
       "      <td>0</td>\n",
       "      <td>0.0</td>\n",
       "      <td>0.0</td>\n",
       "      <td>0</td>\n",
       "      <td>0</td>\n",
       "    </tr>\n",
       "    <tr>\n",
       "      <th>487</th>\n",
       "      <td>66298</td>\n",
       "      <td>US</td>\n",
       "      <td>5860911178842112</td>\n",
       "      <td>1</td>\n",
       "      <td>monkey</td>\n",
       "      <td>7</td>\n",
       "      <td>14924</td>\n",
       "      <td>687.000000</td>\n",
       "      <td>201.000000</td>\n",
       "      <td>2017</td>\n",
       "      <td>...</td>\n",
       "      <td>0</td>\n",
       "      <td>0</td>\n",
       "      <td>0.0</td>\n",
       "      <td>0.0</td>\n",
       "      <td>0</td>\n",
       "      <td>0</td>\n",
       "      <td>0.0</td>\n",
       "      <td>0.0</td>\n",
       "      <td>0</td>\n",
       "      <td>0</td>\n",
       "    </tr>\n",
       "    <tr>\n",
       "      <th>488</th>\n",
       "      <td>91380</td>\n",
       "      <td>US</td>\n",
       "      <td>4528629302165504</td>\n",
       "      <td>1</td>\n",
       "      <td>monkey</td>\n",
       "      <td>10</td>\n",
       "      <td>17583</td>\n",
       "      <td>419.000000</td>\n",
       "      <td>287.000000</td>\n",
       "      <td>2017</td>\n",
       "      <td>...</td>\n",
       "      <td>0</td>\n",
       "      <td>0</td>\n",
       "      <td>0.0</td>\n",
       "      <td>0.0</td>\n",
       "      <td>0</td>\n",
       "      <td>0</td>\n",
       "      <td>0.0</td>\n",
       "      <td>0.0</td>\n",
       "      <td>0</td>\n",
       "      <td>0</td>\n",
       "    </tr>\n",
       "    <tr>\n",
       "      <th>...</th>\n",
       "      <td>...</td>\n",
       "      <td>...</td>\n",
       "      <td>...</td>\n",
       "      <td>...</td>\n",
       "      <td>...</td>\n",
       "      <td>...</td>\n",
       "      <td>...</td>\n",
       "      <td>...</td>\n",
       "      <td>...</td>\n",
       "      <td>...</td>\n",
       "      <td>...</td>\n",
       "      <td>...</td>\n",
       "      <td>...</td>\n",
       "      <td>...</td>\n",
       "      <td>...</td>\n",
       "      <td>...</td>\n",
       "      <td>...</td>\n",
       "      <td>...</td>\n",
       "      <td>...</td>\n",
       "      <td>...</td>\n",
       "      <td>...</td>\n",
       "    </tr>\n",
       "    <tr>\n",
       "      <th>6314</th>\n",
       "      <td>53545</td>\n",
       "      <td>KR</td>\n",
       "      <td>6009542548652032</td>\n",
       "      <td>1</td>\n",
       "      <td>monkey</td>\n",
       "      <td>8</td>\n",
       "      <td>5420</td>\n",
       "      <td>169.000000</td>\n",
       "      <td>101.000000</td>\n",
       "      <td>2017</td>\n",
       "      <td>...</td>\n",
       "      <td>0</td>\n",
       "      <td>0</td>\n",
       "      <td>0.0</td>\n",
       "      <td>0.0</td>\n",
       "      <td>0</td>\n",
       "      <td>0</td>\n",
       "      <td>0.0</td>\n",
       "      <td>0.0</td>\n",
       "      <td>0</td>\n",
       "      <td>0</td>\n",
       "    </tr>\n",
       "    <tr>\n",
       "      <th>6344</th>\n",
       "      <td>55952</td>\n",
       "      <td>KR</td>\n",
       "      <td>6715827749388288</td>\n",
       "      <td>1</td>\n",
       "      <td>monkey</td>\n",
       "      <td>9</td>\n",
       "      <td>8576</td>\n",
       "      <td>133.000000</td>\n",
       "      <td>117.000000</td>\n",
       "      <td>2017</td>\n",
       "      <td>...</td>\n",
       "      <td>0</td>\n",
       "      <td>0</td>\n",
       "      <td>0.0</td>\n",
       "      <td>0.0</td>\n",
       "      <td>0</td>\n",
       "      <td>0</td>\n",
       "      <td>0.0</td>\n",
       "      <td>0.0</td>\n",
       "      <td>0</td>\n",
       "      <td>0</td>\n",
       "    </tr>\n",
       "    <tr>\n",
       "      <th>6367</th>\n",
       "      <td>57474</td>\n",
       "      <td>KR</td>\n",
       "      <td>5549643423285248</td>\n",
       "      <td>1</td>\n",
       "      <td>monkey</td>\n",
       "      <td>10</td>\n",
       "      <td>11271</td>\n",
       "      <td>335.000000</td>\n",
       "      <td>81.000000</td>\n",
       "      <td>2017</td>\n",
       "      <td>...</td>\n",
       "      <td>0</td>\n",
       "      <td>0</td>\n",
       "      <td>0.0</td>\n",
       "      <td>0.0</td>\n",
       "      <td>0</td>\n",
       "      <td>0</td>\n",
       "      <td>0.0</td>\n",
       "      <td>0.0</td>\n",
       "      <td>0</td>\n",
       "      <td>0</td>\n",
       "    </tr>\n",
       "    <tr>\n",
       "      <th>6404</th>\n",
       "      <td>60239</td>\n",
       "      <td>KR</td>\n",
       "      <td>5963223406739456</td>\n",
       "      <td>1</td>\n",
       "      <td>monkey</td>\n",
       "      <td>11</td>\n",
       "      <td>17999</td>\n",
       "      <td>935.000000</td>\n",
       "      <td>291.000000</td>\n",
       "      <td>2017</td>\n",
       "      <td>...</td>\n",
       "      <td>0</td>\n",
       "      <td>0</td>\n",
       "      <td>0.0</td>\n",
       "      <td>0.0</td>\n",
       "      <td>0</td>\n",
       "      <td>0</td>\n",
       "      <td>0.0</td>\n",
       "      <td>0.0</td>\n",
       "      <td>0</td>\n",
       "      <td>0</td>\n",
       "    </tr>\n",
       "    <tr>\n",
       "      <th>6428</th>\n",
       "      <td>61681</td>\n",
       "      <td>KR</td>\n",
       "      <td>6233193743122432</td>\n",
       "      <td>1</td>\n",
       "      <td>monkey</td>\n",
       "      <td>9</td>\n",
       "      <td>13068</td>\n",
       "      <td>701.000000</td>\n",
       "      <td>106.000000</td>\n",
       "      <td>2017</td>\n",
       "      <td>...</td>\n",
       "      <td>0</td>\n",
       "      <td>0</td>\n",
       "      <td>0.0</td>\n",
       "      <td>0.0</td>\n",
       "      <td>0</td>\n",
       "      <td>0</td>\n",
       "      <td>0.0</td>\n",
       "      <td>0.0</td>\n",
       "      <td>0</td>\n",
       "      <td>0</td>\n",
       "    </tr>\n",
       "    <tr>\n",
       "      <th>6433</th>\n",
       "      <td>62228</td>\n",
       "      <td>KR</td>\n",
       "      <td>4836522152951808</td>\n",
       "      <td>1</td>\n",
       "      <td>monkey</td>\n",
       "      <td>9</td>\n",
       "      <td>9550</td>\n",
       "      <td>160.000000</td>\n",
       "      <td>132.000000</td>\n",
       "      <td>2017</td>\n",
       "      <td>...</td>\n",
       "      <td>0</td>\n",
       "      <td>0</td>\n",
       "      <td>0.0</td>\n",
       "      <td>0.0</td>\n",
       "      <td>0</td>\n",
       "      <td>0</td>\n",
       "      <td>0.0</td>\n",
       "      <td>0.0</td>\n",
       "      <td>0</td>\n",
       "      <td>0</td>\n",
       "    </tr>\n",
       "    <tr>\n",
       "      <th>6587</th>\n",
       "      <td>73058</td>\n",
       "      <td>KR</td>\n",
       "      <td>6361287753728000</td>\n",
       "      <td>1</td>\n",
       "      <td>monkey</td>\n",
       "      <td>7</td>\n",
       "      <td>10710</td>\n",
       "      <td>510.000000</td>\n",
       "      <td>142.666664</td>\n",
       "      <td>2017</td>\n",
       "      <td>...</td>\n",
       "      <td>0</td>\n",
       "      <td>0</td>\n",
       "      <td>0.0</td>\n",
       "      <td>0.0</td>\n",
       "      <td>0</td>\n",
       "      <td>0</td>\n",
       "      <td>0.0</td>\n",
       "      <td>0.0</td>\n",
       "      <td>0</td>\n",
       "      <td>0</td>\n",
       "    </tr>\n",
       "    <tr>\n",
       "      <th>6599</th>\n",
       "      <td>74257</td>\n",
       "      <td>KR</td>\n",
       "      <td>4822579481149440</td>\n",
       "      <td>1</td>\n",
       "      <td>monkey</td>\n",
       "      <td>10</td>\n",
       "      <td>13004</td>\n",
       "      <td>784.000000</td>\n",
       "      <td>85.900002</td>\n",
       "      <td>2017</td>\n",
       "      <td>...</td>\n",
       "      <td>0</td>\n",
       "      <td>0</td>\n",
       "      <td>0.0</td>\n",
       "      <td>0.0</td>\n",
       "      <td>0</td>\n",
       "      <td>0</td>\n",
       "      <td>0.0</td>\n",
       "      <td>0.0</td>\n",
       "      <td>0</td>\n",
       "      <td>0</td>\n",
       "    </tr>\n",
       "    <tr>\n",
       "      <th>6654</th>\n",
       "      <td>78143</td>\n",
       "      <td>KR</td>\n",
       "      <td>5323397833687040</td>\n",
       "      <td>1</td>\n",
       "      <td>monkey</td>\n",
       "      <td>11</td>\n",
       "      <td>16916</td>\n",
       "      <td>734.779968</td>\n",
       "      <td>201.859993</td>\n",
       "      <td>2017</td>\n",
       "      <td>...</td>\n",
       "      <td>0</td>\n",
       "      <td>0</td>\n",
       "      <td>0.0</td>\n",
       "      <td>0.0</td>\n",
       "      <td>0</td>\n",
       "      <td>0</td>\n",
       "      <td>0.0</td>\n",
       "      <td>0.0</td>\n",
       "      <td>0</td>\n",
       "      <td>0</td>\n",
       "    </tr>\n",
       "    <tr>\n",
       "      <th>6720</th>\n",
       "      <td>82960</td>\n",
       "      <td>KR</td>\n",
       "      <td>6054071158964224</td>\n",
       "      <td>1</td>\n",
       "      <td>monkey</td>\n",
       "      <td>9</td>\n",
       "      <td>14247</td>\n",
       "      <td>670.000000</td>\n",
       "      <td>72.000000</td>\n",
       "      <td>2017</td>\n",
       "      <td>...</td>\n",
       "      <td>0</td>\n",
       "      <td>0</td>\n",
       "      <td>0.0</td>\n",
       "      <td>0.0</td>\n",
       "      <td>0</td>\n",
       "      <td>0</td>\n",
       "      <td>0.0</td>\n",
       "      <td>0.0</td>\n",
       "      <td>0</td>\n",
       "      <td>0</td>\n",
       "    </tr>\n",
       "    <tr>\n",
       "      <th>6755</th>\n",
       "      <td>85272</td>\n",
       "      <td>KR</td>\n",
       "      <td>6721055957712896</td>\n",
       "      <td>1</td>\n",
       "      <td>monkey</td>\n",
       "      <td>10</td>\n",
       "      <td>15747</td>\n",
       "      <td>804.000000</td>\n",
       "      <td>412.000000</td>\n",
       "      <td>2017</td>\n",
       "      <td>...</td>\n",
       "      <td>0</td>\n",
       "      <td>0</td>\n",
       "      <td>0.0</td>\n",
       "      <td>0.0</td>\n",
       "      <td>0</td>\n",
       "      <td>0</td>\n",
       "      <td>0.0</td>\n",
       "      <td>0.0</td>\n",
       "      <td>0</td>\n",
       "      <td>0</td>\n",
       "    </tr>\n",
       "    <tr>\n",
       "      <th>6822</th>\n",
       "      <td>90409</td>\n",
       "      <td>KR</td>\n",
       "      <td>5986212756062208</td>\n",
       "      <td>1</td>\n",
       "      <td>monkey</td>\n",
       "      <td>7</td>\n",
       "      <td>8127</td>\n",
       "      <td>822.000000</td>\n",
       "      <td>347.000000</td>\n",
       "      <td>2017</td>\n",
       "      <td>...</td>\n",
       "      <td>0</td>\n",
       "      <td>0</td>\n",
       "      <td>0.0</td>\n",
       "      <td>0.0</td>\n",
       "      <td>0</td>\n",
       "      <td>0</td>\n",
       "      <td>0.0</td>\n",
       "      <td>0.0</td>\n",
       "      <td>0</td>\n",
       "      <td>0</td>\n",
       "    </tr>\n",
       "    <tr>\n",
       "      <th>6846</th>\n",
       "      <td>92588</td>\n",
       "      <td>KR</td>\n",
       "      <td>6054345768435712</td>\n",
       "      <td>1</td>\n",
       "      <td>monkey</td>\n",
       "      <td>14</td>\n",
       "      <td>15498</td>\n",
       "      <td>775.000000</td>\n",
       "      <td>89.000000</td>\n",
       "      <td>2017</td>\n",
       "      <td>...</td>\n",
       "      <td>0</td>\n",
       "      <td>0</td>\n",
       "      <td>0.0</td>\n",
       "      <td>0.0</td>\n",
       "      <td>0</td>\n",
       "      <td>0</td>\n",
       "      <td>0.0</td>\n",
       "      <td>0.0</td>\n",
       "      <td>0</td>\n",
       "      <td>0</td>\n",
       "    </tr>\n",
       "    <tr>\n",
       "      <th>6900</th>\n",
       "      <td>97740</td>\n",
       "      <td>KR</td>\n",
       "      <td>6375655493074944</td>\n",
       "      <td>1</td>\n",
       "      <td>monkey</td>\n",
       "      <td>5</td>\n",
       "      <td>10224</td>\n",
       "      <td>579.000000</td>\n",
       "      <td>130.000000</td>\n",
       "      <td>2017</td>\n",
       "      <td>...</td>\n",
       "      <td>0</td>\n",
       "      <td>0</td>\n",
       "      <td>0.0</td>\n",
       "      <td>0.0</td>\n",
       "      <td>0</td>\n",
       "      <td>0</td>\n",
       "      <td>0.0</td>\n",
       "      <td>0.0</td>\n",
       "      <td>0</td>\n",
       "      <td>0</td>\n",
       "    </tr>\n",
       "    <tr>\n",
       "      <th>6913</th>\n",
       "      <td>98445</td>\n",
       "      <td>KR</td>\n",
       "      <td>6499306997547008</td>\n",
       "      <td>1</td>\n",
       "      <td>monkey</td>\n",
       "      <td>10</td>\n",
       "      <td>20561</td>\n",
       "      <td>726.000000</td>\n",
       "      <td>302.000000</td>\n",
       "      <td>2017</td>\n",
       "      <td>...</td>\n",
       "      <td>0</td>\n",
       "      <td>0</td>\n",
       "      <td>0.0</td>\n",
       "      <td>0.0</td>\n",
       "      <td>0</td>\n",
       "      <td>0</td>\n",
       "      <td>0.0</td>\n",
       "      <td>0.0</td>\n",
       "      <td>0</td>\n",
       "      <td>0</td>\n",
       "    </tr>\n",
       "    <tr>\n",
       "      <th>6962</th>\n",
       "      <td>102050</td>\n",
       "      <td>KR</td>\n",
       "      <td>5600158454644736</td>\n",
       "      <td>1</td>\n",
       "      <td>monkey</td>\n",
       "      <td>11</td>\n",
       "      <td>13542</td>\n",
       "      <td>140.817001</td>\n",
       "      <td>142.218002</td>\n",
       "      <td>2017</td>\n",
       "      <td>...</td>\n",
       "      <td>0</td>\n",
       "      <td>0</td>\n",
       "      <td>0.0</td>\n",
       "      <td>0.0</td>\n",
       "      <td>0</td>\n",
       "      <td>0</td>\n",
       "      <td>0.0</td>\n",
       "      <td>0.0</td>\n",
       "      <td>0</td>\n",
       "      <td>0</td>\n",
       "    </tr>\n",
       "    <tr>\n",
       "      <th>7001</th>\n",
       "      <td>104241</td>\n",
       "      <td>KR</td>\n",
       "      <td>5404717872054272</td>\n",
       "      <td>1</td>\n",
       "      <td>monkey</td>\n",
       "      <td>11</td>\n",
       "      <td>16085</td>\n",
       "      <td>649.000000</td>\n",
       "      <td>155.000000</td>\n",
       "      <td>2017</td>\n",
       "      <td>...</td>\n",
       "      <td>0</td>\n",
       "      <td>0</td>\n",
       "      <td>0.0</td>\n",
       "      <td>0.0</td>\n",
       "      <td>0</td>\n",
       "      <td>0</td>\n",
       "      <td>0.0</td>\n",
       "      <td>0.0</td>\n",
       "      <td>0</td>\n",
       "      <td>0</td>\n",
       "    </tr>\n",
       "    <tr>\n",
       "      <th>7061</th>\n",
       "      <td>108227</td>\n",
       "      <td>KR</td>\n",
       "      <td>4543675512127488</td>\n",
       "      <td>1</td>\n",
       "      <td>monkey</td>\n",
       "      <td>8</td>\n",
       "      <td>6689</td>\n",
       "      <td>176.000000</td>\n",
       "      <td>144.000000</td>\n",
       "      <td>2017</td>\n",
       "      <td>...</td>\n",
       "      <td>0</td>\n",
       "      <td>0</td>\n",
       "      <td>0.0</td>\n",
       "      <td>0.0</td>\n",
       "      <td>0</td>\n",
       "      <td>0</td>\n",
       "      <td>0.0</td>\n",
       "      <td>0.0</td>\n",
       "      <td>0</td>\n",
       "      <td>0</td>\n",
       "    </tr>\n",
       "    <tr>\n",
       "      <th>7152</th>\n",
       "      <td>114943</td>\n",
       "      <td>KR</td>\n",
       "      <td>4856715277238272</td>\n",
       "      <td>1</td>\n",
       "      <td>monkey</td>\n",
       "      <td>9</td>\n",
       "      <td>12920</td>\n",
       "      <td>134.313004</td>\n",
       "      <td>140.244995</td>\n",
       "      <td>2017</td>\n",
       "      <td>...</td>\n",
       "      <td>0</td>\n",
       "      <td>0</td>\n",
       "      <td>0.0</td>\n",
       "      <td>0.0</td>\n",
       "      <td>0</td>\n",
       "      <td>0</td>\n",
       "      <td>0.0</td>\n",
       "      <td>0.0</td>\n",
       "      <td>0</td>\n",
       "      <td>0</td>\n",
       "    </tr>\n",
       "    <tr>\n",
       "      <th>7166</th>\n",
       "      <td>115994</td>\n",
       "      <td>KR</td>\n",
       "      <td>6526042162331648</td>\n",
       "      <td>1</td>\n",
       "      <td>monkey</td>\n",
       "      <td>8</td>\n",
       "      <td>14351</td>\n",
       "      <td>879.000000</td>\n",
       "      <td>214.000000</td>\n",
       "      <td>2017</td>\n",
       "      <td>...</td>\n",
       "      <td>0</td>\n",
       "      <td>0</td>\n",
       "      <td>0.0</td>\n",
       "      <td>0.0</td>\n",
       "      <td>0</td>\n",
       "      <td>0</td>\n",
       "      <td>0.0</td>\n",
       "      <td>0.0</td>\n",
       "      <td>0</td>\n",
       "      <td>0</td>\n",
       "    </tr>\n",
       "    <tr>\n",
       "      <th>7200</th>\n",
       "      <td>117642</td>\n",
       "      <td>KR</td>\n",
       "      <td>6646292228866048</td>\n",
       "      <td>1</td>\n",
       "      <td>monkey</td>\n",
       "      <td>9</td>\n",
       "      <td>18410</td>\n",
       "      <td>1002.729980</td>\n",
       "      <td>173.079994</td>\n",
       "      <td>2017</td>\n",
       "      <td>...</td>\n",
       "      <td>0</td>\n",
       "      <td>0</td>\n",
       "      <td>0.0</td>\n",
       "      <td>0.0</td>\n",
       "      <td>0</td>\n",
       "      <td>0</td>\n",
       "      <td>0.0</td>\n",
       "      <td>0.0</td>\n",
       "      <td>0</td>\n",
       "      <td>0</td>\n",
       "    </tr>\n",
       "    <tr>\n",
       "      <th>7202</th>\n",
       "      <td>117756</td>\n",
       "      <td>KR</td>\n",
       "      <td>5866749582901248</td>\n",
       "      <td>1</td>\n",
       "      <td>monkey</td>\n",
       "      <td>9</td>\n",
       "      <td>13581</td>\n",
       "      <td>145.388000</td>\n",
       "      <td>173.074005</td>\n",
       "      <td>2017</td>\n",
       "      <td>...</td>\n",
       "      <td>0</td>\n",
       "      <td>0</td>\n",
       "      <td>0.0</td>\n",
       "      <td>0.0</td>\n",
       "      <td>0</td>\n",
       "      <td>0</td>\n",
       "      <td>0.0</td>\n",
       "      <td>0.0</td>\n",
       "      <td>0</td>\n",
       "      <td>0</td>\n",
       "    </tr>\n",
       "    <tr>\n",
       "      <th>7208</th>\n",
       "      <td>118249</td>\n",
       "      <td>KR</td>\n",
       "      <td>6214460605726720</td>\n",
       "      <td>1</td>\n",
       "      <td>monkey</td>\n",
       "      <td>10</td>\n",
       "      <td>13443</td>\n",
       "      <td>154.785004</td>\n",
       "      <td>110.770004</td>\n",
       "      <td>2017</td>\n",
       "      <td>...</td>\n",
       "      <td>0</td>\n",
       "      <td>0</td>\n",
       "      <td>0.0</td>\n",
       "      <td>0.0</td>\n",
       "      <td>0</td>\n",
       "      <td>0</td>\n",
       "      <td>0.0</td>\n",
       "      <td>0.0</td>\n",
       "      <td>0</td>\n",
       "      <td>0</td>\n",
       "    </tr>\n",
       "    <tr>\n",
       "      <th>7226</th>\n",
       "      <td>119909</td>\n",
       "      <td>KR</td>\n",
       "      <td>6730030157660160</td>\n",
       "      <td>1</td>\n",
       "      <td>monkey</td>\n",
       "      <td>18</td>\n",
       "      <td>17157</td>\n",
       "      <td>817.000000</td>\n",
       "      <td>236.000000</td>\n",
       "      <td>2017</td>\n",
       "      <td>...</td>\n",
       "      <td>0</td>\n",
       "      <td>0</td>\n",
       "      <td>0.0</td>\n",
       "      <td>0.0</td>\n",
       "      <td>0</td>\n",
       "      <td>0</td>\n",
       "      <td>0.0</td>\n",
       "      <td>0.0</td>\n",
       "      <td>0</td>\n",
       "      <td>0</td>\n",
       "    </tr>\n",
       "    <tr>\n",
       "      <th>7236</th>\n",
       "      <td>120442</td>\n",
       "      <td>KR</td>\n",
       "      <td>4968732117958656</td>\n",
       "      <td>1</td>\n",
       "      <td>monkey</td>\n",
       "      <td>14</td>\n",
       "      <td>17101</td>\n",
       "      <td>609.000000</td>\n",
       "      <td>242.900002</td>\n",
       "      <td>2017</td>\n",
       "      <td>...</td>\n",
       "      <td>0</td>\n",
       "      <td>0</td>\n",
       "      <td>0.0</td>\n",
       "      <td>0.0</td>\n",
       "      <td>0</td>\n",
       "      <td>0</td>\n",
       "      <td>0.0</td>\n",
       "      <td>0.0</td>\n",
       "      <td>0</td>\n",
       "      <td>0</td>\n",
       "    </tr>\n",
       "    <tr>\n",
       "      <th>7260</th>\n",
       "      <td>121368</td>\n",
       "      <td>KR</td>\n",
       "      <td>5155031357587456</td>\n",
       "      <td>1</td>\n",
       "      <td>monkey</td>\n",
       "      <td>9</td>\n",
       "      <td>16979</td>\n",
       "      <td>216.000000</td>\n",
       "      <td>172.000000</td>\n",
       "      <td>2017</td>\n",
       "      <td>...</td>\n",
       "      <td>0</td>\n",
       "      <td>0</td>\n",
       "      <td>0.0</td>\n",
       "      <td>0.0</td>\n",
       "      <td>0</td>\n",
       "      <td>0</td>\n",
       "      <td>0.0</td>\n",
       "      <td>0.0</td>\n",
       "      <td>0</td>\n",
       "      <td>0</td>\n",
       "    </tr>\n",
       "    <tr>\n",
       "      <th>7280</th>\n",
       "      <td>122531</td>\n",
       "      <td>KR</td>\n",
       "      <td>5876114222219264</td>\n",
       "      <td>1</td>\n",
       "      <td>monkey</td>\n",
       "      <td>8</td>\n",
       "      <td>6291</td>\n",
       "      <td>174.257996</td>\n",
       "      <td>110.270996</td>\n",
       "      <td>2017</td>\n",
       "      <td>...</td>\n",
       "      <td>0</td>\n",
       "      <td>0</td>\n",
       "      <td>0.0</td>\n",
       "      <td>0.0</td>\n",
       "      <td>0</td>\n",
       "      <td>0</td>\n",
       "      <td>0.0</td>\n",
       "      <td>0.0</td>\n",
       "      <td>0</td>\n",
       "      <td>0</td>\n",
       "    </tr>\n",
       "    <tr>\n",
       "      <th>7328</th>\n",
       "      <td>126255</td>\n",
       "      <td>KR</td>\n",
       "      <td>6338674348261376</td>\n",
       "      <td>1</td>\n",
       "      <td>monkey</td>\n",
       "      <td>9</td>\n",
       "      <td>9008</td>\n",
       "      <td>960.000000</td>\n",
       "      <td>433.900002</td>\n",
       "      <td>2017</td>\n",
       "      <td>...</td>\n",
       "      <td>0</td>\n",
       "      <td>0</td>\n",
       "      <td>0.0</td>\n",
       "      <td>0.0</td>\n",
       "      <td>0</td>\n",
       "      <td>0</td>\n",
       "      <td>0.0</td>\n",
       "      <td>0.0</td>\n",
       "      <td>0</td>\n",
       "      <td>0</td>\n",
       "    </tr>\n",
       "    <tr>\n",
       "      <th>7330</th>\n",
       "      <td>126373</td>\n",
       "      <td>KR</td>\n",
       "      <td>5571531650367488</td>\n",
       "      <td>1</td>\n",
       "      <td>monkey</td>\n",
       "      <td>7</td>\n",
       "      <td>7640</td>\n",
       "      <td>775.000000</td>\n",
       "      <td>113.000000</td>\n",
       "      <td>2017</td>\n",
       "      <td>...</td>\n",
       "      <td>0</td>\n",
       "      <td>0</td>\n",
       "      <td>0.0</td>\n",
       "      <td>0.0</td>\n",
       "      <td>0</td>\n",
       "      <td>0</td>\n",
       "      <td>0.0</td>\n",
       "      <td>0.0</td>\n",
       "      <td>0</td>\n",
       "      <td>0</td>\n",
       "    </tr>\n",
       "    <tr>\n",
       "      <th>7336</th>\n",
       "      <td>127085</td>\n",
       "      <td>KR</td>\n",
       "      <td>6460784764780544</td>\n",
       "      <td>1</td>\n",
       "      <td>monkey</td>\n",
       "      <td>11</td>\n",
       "      <td>10963</td>\n",
       "      <td>521.000000</td>\n",
       "      <td>347.000000</td>\n",
       "      <td>2017</td>\n",
       "      <td>...</td>\n",
       "      <td>0</td>\n",
       "      <td>0</td>\n",
       "      <td>0.0</td>\n",
       "      <td>0.0</td>\n",
       "      <td>0</td>\n",
       "      <td>0</td>\n",
       "      <td>0.0</td>\n",
       "      <td>0.0</td>\n",
       "      <td>0</td>\n",
       "      <td>0</td>\n",
       "    </tr>\n",
       "  </tbody>\n",
       "</table>\n",
       "<p>239 rows × 146 columns</p>\n",
       "</div>"
      ],
      "text/plain": [
       "      Unnamed: 0 countrycode            key_id  recognized    word  \\\n",
       "8          41854          US  5568865213874176           1  monkey   \n",
       "34        107354          US  5179400599371776           1  monkey   \n",
       "45         48423          US  6650002099142656           1  monkey   \n",
       "87         78530          US  6493301022654464           1  monkey   \n",
       "90        119170          US  5724100632772608           1  monkey   \n",
       "101       103925          US  4948208784506880           1  monkey   \n",
       "106       116778          US  6711385234866176           1  monkey   \n",
       "123        67852          US  6028546638086144           1  monkey   \n",
       "124        82462          US  6123684525768704           1  monkey   \n",
       "169        27504          US  5732183425679360           1  monkey   \n",
       "197        92067          US  5293782155132928           1  monkey   \n",
       "199        63813          US  5546895113977856           1  monkey   \n",
       "210        75465          US  5926536601403392           1  monkey   \n",
       "212       100116          US  4900645343592448           1  monkey   \n",
       "245        47958          US  5672268162138112           1  monkey   \n",
       "296        92213          US  4903765704441856           1  monkey   \n",
       "311        25677          US  4585199792816128           1  monkey   \n",
       "318        48397          US  5860073660219392           1  monkey   \n",
       "340        45489          US  4525474648686592           1  monkey   \n",
       "341       105963          US  6620417156448256           1  monkey   \n",
       "379        51329          US  5572646597033984           1  monkey   \n",
       "381        26163          US  4835963513602048           1  monkey   \n",
       "389        11109          US  6491549615521792           1  monkey   \n",
       "392         9520          US  5342453261402112           1  monkey   \n",
       "415        34217          US  5468931156344832           1  monkey   \n",
       "420        77905          US  6396239123841024           1  monkey   \n",
       "427       110958          US  6548389346934784           1  monkey   \n",
       "486       113575          US  5197538581807104           1  monkey   \n",
       "487        66298          US  5860911178842112           1  monkey   \n",
       "488        91380          US  4528629302165504           1  monkey   \n",
       "...          ...         ...               ...         ...     ...   \n",
       "6314       53545          KR  6009542548652032           1  monkey   \n",
       "6344       55952          KR  6715827749388288           1  monkey   \n",
       "6367       57474          KR  5549643423285248           1  monkey   \n",
       "6404       60239          KR  5963223406739456           1  monkey   \n",
       "6428       61681          KR  6233193743122432           1  monkey   \n",
       "6433       62228          KR  4836522152951808           1  monkey   \n",
       "6587       73058          KR  6361287753728000           1  monkey   \n",
       "6599       74257          KR  4822579481149440           1  monkey   \n",
       "6654       78143          KR  5323397833687040           1  monkey   \n",
       "6720       82960          KR  6054071158964224           1  monkey   \n",
       "6755       85272          KR  6721055957712896           1  monkey   \n",
       "6822       90409          KR  5986212756062208           1  monkey   \n",
       "6846       92588          KR  6054345768435712           1  monkey   \n",
       "6900       97740          KR  6375655493074944           1  monkey   \n",
       "6913       98445          KR  6499306997547008           1  monkey   \n",
       "6962      102050          KR  5600158454644736           1  monkey   \n",
       "7001      104241          KR  5404717872054272           1  monkey   \n",
       "7061      108227          KR  4543675512127488           1  monkey   \n",
       "7152      114943          KR  4856715277238272           1  monkey   \n",
       "7166      115994          KR  6526042162331648           1  monkey   \n",
       "7200      117642          KR  6646292228866048           1  monkey   \n",
       "7202      117756          KR  5866749582901248           1  monkey   \n",
       "7208      118249          KR  6214460605726720           1  monkey   \n",
       "7226      119909          KR  6730030157660160           1  monkey   \n",
       "7236      120442          KR  4968732117958656           1  monkey   \n",
       "7260      121368          KR  5155031357587456           1  monkey   \n",
       "7280      122531          KR  5876114222219264           1  monkey   \n",
       "7328      126255          KR  6338674348261376           1  monkey   \n",
       "7330      126373          KR  5571531650367488           1  monkey   \n",
       "7336      127085          KR  6460784764780544           1  monkey   \n",
       "\n",
       "      stroke_number  final_time      first_X     first_Y  year  \\\n",
       "8                12       13036   120.000000  199.000000  2017   \n",
       "34                6        4366   194.412003  176.234985  2017   \n",
       "45               13       15205   171.000000  144.000000  2017   \n",
       "87                6        4825   169.000000   63.000000  2017   \n",
       "90               12       15938   478.000000   48.000000  2017   \n",
       "101               7        8398   386.000000  255.000000  2017   \n",
       "106               5        9466   602.000000  295.000000  2017   \n",
       "123              14       20295   318.000000  170.000000  2017   \n",
       "124              10       10148   617.500000  216.900002  2017   \n",
       "169              13       16184  1122.000000  323.000000  2017   \n",
       "197              10       12019   193.000000  111.000000  2017   \n",
       "199               8        9253   598.750000  506.773010  2017   \n",
       "210               6        5001   181.000000  125.000000  2017   \n",
       "212               6       10710   685.000000  212.000000  2017   \n",
       "245              12       12818   616.000000  419.199997  2017   \n",
       "296               8        9726   280.000000  316.000000  2017   \n",
       "311              11        9720   798.000000  155.199997  2017   \n",
       "318               9       11078   542.000000  278.000000  2017   \n",
       "340               8        3578   668.148010  134.770996  2017   \n",
       "341               5        5055   464.000000  195.000000  2017   \n",
       "379              16       20680   485.000000   77.000000  2017   \n",
       "381              10       18757   959.000000  560.000000  2017   \n",
       "389               7        6250   759.354004  143.869003  2017   \n",
       "392               8       14203   630.000000  129.000000  2017   \n",
       "415              11        9679   364.000000  314.000000  2017   \n",
       "420              11       19405   698.000000  228.000000  2017   \n",
       "427               8       10227   604.000000  211.000000  2017   \n",
       "486              12       12425   562.000000  135.000000  2017   \n",
       "487               7       14924   687.000000  201.000000  2017   \n",
       "488              10       17583   419.000000  287.000000  2017   \n",
       "...             ...         ...          ...         ...   ...   \n",
       "6314              8        5420   169.000000  101.000000  2017   \n",
       "6344              9        8576   133.000000  117.000000  2017   \n",
       "6367             10       11271   335.000000   81.000000  2017   \n",
       "6404             11       17999   935.000000  291.000000  2017   \n",
       "6428              9       13068   701.000000  106.000000  2017   \n",
       "6433              9        9550   160.000000  132.000000  2017   \n",
       "6587              7       10710   510.000000  142.666664  2017   \n",
       "6599             10       13004   784.000000   85.900002  2017   \n",
       "6654             11       16916   734.779968  201.859993  2017   \n",
       "6720              9       14247   670.000000   72.000000  2017   \n",
       "6755             10       15747   804.000000  412.000000  2017   \n",
       "6822              7        8127   822.000000  347.000000  2017   \n",
       "6846             14       15498   775.000000   89.000000  2017   \n",
       "6900              5       10224   579.000000  130.000000  2017   \n",
       "6913             10       20561   726.000000  302.000000  2017   \n",
       "6962             11       13542   140.817001  142.218002  2017   \n",
       "7001             11       16085   649.000000  155.000000  2017   \n",
       "7061              8        6689   176.000000  144.000000  2017   \n",
       "7152              9       12920   134.313004  140.244995  2017   \n",
       "7166              8       14351   879.000000  214.000000  2017   \n",
       "7200              9       18410  1002.729980  173.079994  2017   \n",
       "7202              9       13581   145.388000  173.074005  2017   \n",
       "7208             10       13443   154.785004  110.770004  2017   \n",
       "7226             18       17157   817.000000  236.000000  2017   \n",
       "7236             14       17101   609.000000  242.900002  2017   \n",
       "7260              9       16979   216.000000  172.000000  2017   \n",
       "7280              8        6291   174.257996  110.270996  2017   \n",
       "7328              9        9008   960.000000  433.900002  2017   \n",
       "7330              7        7640   775.000000  113.000000  2017   \n",
       "7336             11       10963   521.000000  347.000000  2017   \n",
       "\n",
       "            ...         time_per_stroke_27  dp_per_stroke_27  slope_28  \\\n",
       "8           ...                          0                 0       0.0   \n",
       "34          ...                          0                 0       0.0   \n",
       "45          ...                          0                 0       0.0   \n",
       "87          ...                          0                 0       0.0   \n",
       "90          ...                          0                 0       0.0   \n",
       "101         ...                          0                 0       0.0   \n",
       "106         ...                          0                 0       0.0   \n",
       "123         ...                          0                 0       0.0   \n",
       "124         ...                          0                 0       0.0   \n",
       "169         ...                          0                 0       0.0   \n",
       "197         ...                          0                 0       0.0   \n",
       "199         ...                          0                 0       0.0   \n",
       "210         ...                          0                 0       0.0   \n",
       "212         ...                          0                 0       0.0   \n",
       "245         ...                          0                 0       0.0   \n",
       "296         ...                          0                 0       0.0   \n",
       "311         ...                          0                 0       0.0   \n",
       "318         ...                          0                 0       0.0   \n",
       "340         ...                          0                 0       0.0   \n",
       "341         ...                          0                 0       0.0   \n",
       "379         ...                          0                 0       0.0   \n",
       "381         ...                          0                 0       0.0   \n",
       "389         ...                          0                 0       0.0   \n",
       "392         ...                          0                 0       0.0   \n",
       "415         ...                          0                 0       0.0   \n",
       "420         ...                          0                 0       0.0   \n",
       "427         ...                          0                 0       0.0   \n",
       "486         ...                          0                 0       0.0   \n",
       "487         ...                          0                 0       0.0   \n",
       "488         ...                          0                 0       0.0   \n",
       "...         ...                        ...               ...       ...   \n",
       "6314        ...                          0                 0       0.0   \n",
       "6344        ...                          0                 0       0.0   \n",
       "6367        ...                          0                 0       0.0   \n",
       "6404        ...                          0                 0       0.0   \n",
       "6428        ...                          0                 0       0.0   \n",
       "6433        ...                          0                 0       0.0   \n",
       "6587        ...                          0                 0       0.0   \n",
       "6599        ...                          0                 0       0.0   \n",
       "6654        ...                          0                 0       0.0   \n",
       "6720        ...                          0                 0       0.0   \n",
       "6755        ...                          0                 0       0.0   \n",
       "6822        ...                          0                 0       0.0   \n",
       "6846        ...                          0                 0       0.0   \n",
       "6900        ...                          0                 0       0.0   \n",
       "6913        ...                          0                 0       0.0   \n",
       "6962        ...                          0                 0       0.0   \n",
       "7001        ...                          0                 0       0.0   \n",
       "7061        ...                          0                 0       0.0   \n",
       "7152        ...                          0                 0       0.0   \n",
       "7166        ...                          0                 0       0.0   \n",
       "7200        ...                          0                 0       0.0   \n",
       "7202        ...                          0                 0       0.0   \n",
       "7208        ...                          0                 0       0.0   \n",
       "7226        ...                          0                 0       0.0   \n",
       "7236        ...                          0                 0       0.0   \n",
       "7260        ...                          0                 0       0.0   \n",
       "7280        ...                          0                 0       0.0   \n",
       "7328        ...                          0                 0       0.0   \n",
       "7330        ...                          0                 0       0.0   \n",
       "7336        ...                          0                 0       0.0   \n",
       "\n",
       "      direction_28 time_per_stroke_28 dp_per_stroke_28 slope_29  direction_29  \\\n",
       "8              0.0                  0                0      0.0           0.0   \n",
       "34             0.0                  0                0      0.0           0.0   \n",
       "45             0.0                  0                0      0.0           0.0   \n",
       "87             0.0                  0                0      0.0           0.0   \n",
       "90             0.0                  0                0      0.0           0.0   \n",
       "101            0.0                  0                0      0.0           0.0   \n",
       "106            0.0                  0                0      0.0           0.0   \n",
       "123            0.0                  0                0      0.0           0.0   \n",
       "124            0.0                  0                0      0.0           0.0   \n",
       "169            0.0                  0                0      0.0           0.0   \n",
       "197            0.0                  0                0      0.0           0.0   \n",
       "199            0.0                  0                0      0.0           0.0   \n",
       "210            0.0                  0                0      0.0           0.0   \n",
       "212            0.0                  0                0      0.0           0.0   \n",
       "245            0.0                  0                0      0.0           0.0   \n",
       "296            0.0                  0                0      0.0           0.0   \n",
       "311            0.0                  0                0      0.0           0.0   \n",
       "318            0.0                  0                0      0.0           0.0   \n",
       "340            0.0                  0                0      0.0           0.0   \n",
       "341            0.0                  0                0      0.0           0.0   \n",
       "379            0.0                  0                0      0.0           0.0   \n",
       "381            0.0                  0                0      0.0           0.0   \n",
       "389            0.0                  0                0      0.0           0.0   \n",
       "392            0.0                  0                0      0.0           0.0   \n",
       "415            0.0                  0                0      0.0           0.0   \n",
       "420            0.0                  0                0      0.0           0.0   \n",
       "427            0.0                  0                0      0.0           0.0   \n",
       "486            0.0                  0                0      0.0           0.0   \n",
       "487            0.0                  0                0      0.0           0.0   \n",
       "488            0.0                  0                0      0.0           0.0   \n",
       "...            ...                ...              ...      ...           ...   \n",
       "6314           0.0                  0                0      0.0           0.0   \n",
       "6344           0.0                  0                0      0.0           0.0   \n",
       "6367           0.0                  0                0      0.0           0.0   \n",
       "6404           0.0                  0                0      0.0           0.0   \n",
       "6428           0.0                  0                0      0.0           0.0   \n",
       "6433           0.0                  0                0      0.0           0.0   \n",
       "6587           0.0                  0                0      0.0           0.0   \n",
       "6599           0.0                  0                0      0.0           0.0   \n",
       "6654           0.0                  0                0      0.0           0.0   \n",
       "6720           0.0                  0                0      0.0           0.0   \n",
       "6755           0.0                  0                0      0.0           0.0   \n",
       "6822           0.0                  0                0      0.0           0.0   \n",
       "6846           0.0                  0                0      0.0           0.0   \n",
       "6900           0.0                  0                0      0.0           0.0   \n",
       "6913           0.0                  0                0      0.0           0.0   \n",
       "6962           0.0                  0                0      0.0           0.0   \n",
       "7001           0.0                  0                0      0.0           0.0   \n",
       "7061           0.0                  0                0      0.0           0.0   \n",
       "7152           0.0                  0                0      0.0           0.0   \n",
       "7166           0.0                  0                0      0.0           0.0   \n",
       "7200           0.0                  0                0      0.0           0.0   \n",
       "7202           0.0                  0                0      0.0           0.0   \n",
       "7208           0.0                  0                0      0.0           0.0   \n",
       "7226           0.0                  0                0      0.0           0.0   \n",
       "7236           0.0                  0                0      0.0           0.0   \n",
       "7260           0.0                  0                0      0.0           0.0   \n",
       "7280           0.0                  0                0      0.0           0.0   \n",
       "7328           0.0                  0                0      0.0           0.0   \n",
       "7330           0.0                  0                0      0.0           0.0   \n",
       "7336           0.0                  0                0      0.0           0.0   \n",
       "\n",
       "      time_per_stroke_29  dp_per_stroke_29  \n",
       "8                      0                 0  \n",
       "34                     0                 0  \n",
       "45                     0                 0  \n",
       "87                     0                 0  \n",
       "90                     0                 0  \n",
       "101                    0                 0  \n",
       "106                    0                 0  \n",
       "123                    0                 0  \n",
       "124                    0                 0  \n",
       "169                    0                 0  \n",
       "197                    0                 0  \n",
       "199                    0                 0  \n",
       "210                    0                 0  \n",
       "212                    0                 0  \n",
       "245                    0                 0  \n",
       "296                    0                 0  \n",
       "311                    0                 0  \n",
       "318                    0                 0  \n",
       "340                    0                 0  \n",
       "341                    0                 0  \n",
       "379                    0                 0  \n",
       "381                    0                 0  \n",
       "389                    0                 0  \n",
       "392                    0                 0  \n",
       "415                    0                 0  \n",
       "420                    0                 0  \n",
       "427                    0                 0  \n",
       "486                    0                 0  \n",
       "487                    0                 0  \n",
       "488                    0                 0  \n",
       "...                  ...               ...  \n",
       "6314                   0                 0  \n",
       "6344                   0                 0  \n",
       "6367                   0                 0  \n",
       "6404                   0                 0  \n",
       "6428                   0                 0  \n",
       "6433                   0                 0  \n",
       "6587                   0                 0  \n",
       "6599                   0                 0  \n",
       "6654                   0                 0  \n",
       "6720                   0                 0  \n",
       "6755                   0                 0  \n",
       "6822                   0                 0  \n",
       "6846                   0                 0  \n",
       "6900                   0                 0  \n",
       "6913                   0                 0  \n",
       "6962                   0                 0  \n",
       "7001                   0                 0  \n",
       "7061                   0                 0  \n",
       "7152                   0                 0  \n",
       "7166                   0                 0  \n",
       "7200                   0                 0  \n",
       "7202                   0                 0  \n",
       "7208                   0                 0  \n",
       "7226                   0                 0  \n",
       "7236                   0                 0  \n",
       "7260                   0                 0  \n",
       "7280                   0                 0  \n",
       "7328                   0                 0  \n",
       "7330                   0                 0  \n",
       "7336                   0                 0  \n",
       "\n",
       "[239 rows x 146 columns]"
      ]
     },
     "execution_count": 399,
     "metadata": {},
     "output_type": "execute_result"
    }
   ],
   "source": [
    "new_df[new_df['month']==4]"
   ]
  },
  {
   "cell_type": "code",
   "execution_count": 400,
   "metadata": {
    "collapsed": true
   },
   "outputs": [],
   "source": [
    "def randomforest_combine(df):\n",
    "    print \"total data points: {}\".format(len(df))\n",
    "    a = df.groupby(df['countrycode']).count().sort(columns='recognized',ascending=False).head(5)\n",
    "    print a['recognized']\n",
    "    Y = df.pop('countrycode')\n",
    "    b_loon = {'US': 0, 'RU':1, 'BR':2, 'KR':3}\n",
    "    Y = Y.map(b_loon)\n",
    "    X_train1, X_test1, y_train1, y_test1 = train_test_split(df, Y)\n",
    "    RFC1 = RandomForestClassifier()\n",
    "    RFC1.fit(X_train1,y_train1)\n",
    "    proba_test = RFC1.predict_proba(X_test1)\n",
    "    score = RFC1.score(X_test1,y_test1)\n",
    "    return score,RFC1,df,proba_test,y_test1"
   ]
  },
  {
   "cell_type": "code",
   "execution_count": 401,
   "metadata": {
    "collapsed": false,
    "scrolled": true
   },
   "outputs": [
    {
     "name": "stdout",
     "output_type": "stream",
     "text": [
      "total data points: 109472\n"
     ]
    },
    {
     "name": "stderr",
     "output_type": "stream",
     "text": [
      "/Users/keisukeirie/anaconda/lib/python2.7/site-packages/ipykernel/__main__.py:3: FutureWarning: sort(columns=....) is deprecated, use sort_values(by=.....)\n",
      "  app.launch_new_instance()\n"
     ]
    },
    {
     "name": "stdout",
     "output_type": "stream",
     "text": [
      "countrycode\n",
      "RU    28150\n",
      "US    28150\n",
      "BR    27589\n",
      "KR    25583\n",
      "Name: recognized, dtype: int64\n"
     ]
    }
   ],
   "source": [
    "score,model,combineddf,prob,y_test = randomforest_combine(df_combine)"
   ]
  },
  {
   "cell_type": "code",
   "execution_count": 402,
   "metadata": {
    "collapsed": false
   },
   "outputs": [
    {
     "data": {
      "text/plain": [
       "0.3432841274481146"
      ]
     },
     "execution_count": 402,
     "metadata": {},
     "output_type": "execute_result"
    }
   ],
   "source": [
    "score"
   ]
  },
  {
   "cell_type": "code",
   "execution_count": 403,
   "metadata": {
    "collapsed": false,
    "scrolled": true
   },
   "outputs": [],
   "source": [
    "a = zip(prob,y_test)"
   ]
  },
  {
   "cell_type": "code",
   "execution_count": 404,
   "metadata": {
    "collapsed": false
   },
   "outputs": [],
   "source": [
    "aa = []\n",
    "for i in xrange(len(a)):\n",
    "    if max(a[i][0])>=0.9 and np.argmax(a[i][0])==a[i][1]:\n",
    "        aa.append(a[i])"
   ]
  },
  {
   "cell_type": "code",
   "execution_count": 405,
   "metadata": {
    "collapsed": false
   },
   "outputs": [
    {
     "data": {
      "text/plain": [
       "107"
      ]
     },
     "execution_count": 405,
     "metadata": {},
     "output_type": "execute_result"
    }
   ],
   "source": [
    "len(aa)"
   ]
  },
  {
   "cell_type": "code",
   "execution_count": 406,
   "metadata": {
    "collapsed": false
   },
   "outputs": [
    {
     "data": {
      "text/plain": [
       "131"
      ]
     },
     "execution_count": 406,
     "metadata": {},
     "output_type": "execute_result"
    }
   ],
   "source": [
    "len(b)"
   ]
  },
  {
   "cell_type": "code",
   "execution_count": 407,
   "metadata": {
    "collapsed": false
   },
   "outputs": [
    {
     "data": {
      "text/plain": [
       "0.816793893129771"
      ]
     },
     "execution_count": 407,
     "metadata": {},
     "output_type": "execute_result"
    }
   ],
   "source": [
    "len(aa)/float(len(b))"
   ]
  },
  {
   "cell_type": "code",
   "execution_count": 15,
   "metadata": {
    "collapsed": false
   },
   "outputs": [],
   "source": [
    "top10feat = model.feature_importances_.argsort()[-20:][::-1]"
   ]
  },
  {
   "cell_type": "code",
   "execution_count": 16,
   "metadata": {
    "collapsed": false
   },
   "outputs": [
    {
     "data": {
      "text/plain": [
       "Index([  u'time_per_stroke_0',   u'time_per_stroke_1',  u'total_time_drawing',\n",
       "       u'ave_time_per_stroke',                u'Xmax',          u'final_time',\n",
       "                      u'Ymin',         u'std_of_time',           u'std_of_dp',\n",
       "                    u'key_id',                u'X_10',     u'dp_per_stroke_1',\n",
       "                       u'Y_0',                 u'Y_4',                 u'X_1',\n",
       "                       u'X_3',                 u'X_0',                u'Ymax',\n",
       "                      u'Y_17',                 u'Y_8'],\n",
       "      dtype='object')"
      ]
     },
     "execution_count": 16,
     "metadata": {},
     "output_type": "execute_result"
    }
   ],
   "source": [
    "df.columns[top10feat]"
   ]
  },
  {
   "cell_type": "code",
   "execution_count": 410,
   "metadata": {
    "collapsed": true
   },
   "outputs": [],
   "source": [
    "new_df.to_csv(\"./modified_data/combined_df.csv\")"
   ]
  },
  {
   "cell_type": "code",
   "execution_count": 411,
   "metadata": {
    "collapsed": false
   },
   "outputs": [
    {
     "data": {
      "text/plain": [
       "array([ 4,  5, 12,  3, 17, 11, 10,  0, 18, 16,  6, 19,  9, 15, 22, 20, 21,\n",
       "       23, 26, 25])"
      ]
     },
     "execution_count": 411,
     "metadata": {},
     "output_type": "execute_result"
    }
   ],
   "source": [
    "top10feat"
   ]
  },
  {
   "cell_type": "code",
   "execution_count": 412,
   "metadata": {
    "collapsed": false
   },
   "outputs": [
    {
     "data": {
      "text/plain": [
       "array([  3.72479335e-02,   3.27015984e-03,   6.50713497e-03,\n",
       "         3.91497623e-02,   5.65606072e-02,   4.37233678e-02,\n",
       "         3.65577167e-02,   6.82505579e-03,   9.96097134e-03,\n",
       "         2.90481610e-02,   3.79874898e-02,   3.82099401e-02,\n",
       "         3.97804945e-02,   6.30984441e-03,   9.81499260e-03,\n",
       "         2.88935654e-02,   3.68937123e-02,   3.90766006e-02,\n",
       "         3.70849074e-02,   3.61050431e-02,   2.75242500e-02,\n",
       "         2.69955259e-02,   2.80504522e-02,   2.62387260e-02,\n",
       "         1.94661683e-02,   1.97218257e-02,   1.97959284e-02,\n",
       "         1.84138715e-02,   1.44756361e-02,   1.44952028e-02,\n",
       "         1.47118070e-02,   1.30876943e-02,   1.10558813e-02,\n",
       "         1.12100874e-02,   1.11078713e-02,   1.01365703e-02,\n",
       "         8.79305416e-03,   8.14457038e-03,   8.47908172e-03,\n",
       "         7.90477887e-03,   6.69941308e-03,   6.47984893e-03,\n",
       "         6.67641018e-03,   5.60862918e-03,   5.03036032e-03,\n",
       "         5.18908430e-03,   5.29459940e-03,   4.47642669e-03,\n",
       "         3.83605688e-03,   3.83723828e-03,   3.83755929e-03,\n",
       "         3.41081213e-03,   2.92975569e-03,   2.82079588e-03,\n",
       "         2.81265562e-03,   2.55845024e-03,   1.96949290e-03,\n",
       "         2.18684734e-03,   2.34047045e-03,   2.02747571e-03,\n",
       "         1.57380559e-03,   1.35372089e-03,   1.57214761e-03,\n",
       "         1.38276718e-03,   1.10321160e-03,   1.02643616e-03,\n",
       "         1.33845218e-03,   1.05399442e-03,   7.84546654e-04,\n",
       "         7.05667694e-04,   8.76208009e-04,   7.54014458e-04,\n",
       "         5.61468683e-04,   4.68602796e-04,   6.48488741e-04,\n",
       "         7.44154476e-04,   4.26273714e-04,   4.02522239e-04,\n",
       "         4.87296503e-04,   3.37770751e-04,   2.72844234e-04,\n",
       "         2.45843742e-04,   2.29040898e-04,   2.58362806e-04,\n",
       "         1.85366424e-04,   2.12414623e-04,   2.13363327e-04,\n",
       "         1.63622854e-04,   1.20361810e-04,   1.00927516e-04,\n",
       "         2.35548516e-04,   1.02291951e-04,   9.63033710e-05,\n",
       "         1.47203644e-04,   1.52993544e-04,   9.14065494e-05,\n",
       "         6.77986109e-05,   7.19880186e-05,   7.80633687e-05,\n",
       "         4.27564322e-05,   4.74756041e-05,   5.59545007e-05,\n",
       "         5.75132755e-05,   5.59323317e-05,   2.61535256e-05,\n",
       "         2.87081731e-05,   5.22210899e-06,   2.99099536e-05,\n",
       "         1.75717073e-05,   1.79310664e-05,   1.16130453e-05,\n",
       "         1.36477559e-05,   2.03450796e-05,   2.84928162e-06,\n",
       "         1.22383963e-05,   3.87924205e-05,   0.00000000e+00,\n",
       "         7.90818306e-06,   1.62461822e-06,   2.92723021e-06,\n",
       "         0.00000000e+00,   3.24959391e-06,   1.46215640e-06,\n",
       "         2.97898855e-06,   0.00000000e+00,   1.62444825e-06,\n",
       "         2.16619357e-06,   3.05840901e-06,   0.00000000e+00,\n",
       "         0.00000000e+00,   0.00000000e+00,   0.00000000e+00,\n",
       "         0.00000000e+00,   0.00000000e+00,   0.00000000e+00,\n",
       "         2.26262435e-06])"
      ]
     },
     "execution_count": 412,
     "metadata": {},
     "output_type": "execute_result"
    }
   ],
   "source": [
    "model.feature_importances_"
   ]
  },
  {
   "cell_type": "code",
   "execution_count": 416,
   "metadata": {
    "collapsed": false
   },
   "outputs": [],
   "source": [
    "a =np.max(new_df['X'], axis = 0)"
   ]
  },
  {
   "cell_type": "code",
   "execution_count": 485,
   "metadata": {
    "collapsed": false
   },
   "outputs": [],
   "source": [
    "new_df.index = xrange(len(new_df))"
   ]
  },
  {
   "cell_type": "code",
   "execution_count": 424,
   "metadata": {
    "collapsed": false
   },
   "outputs": [],
   "source": [
    "a =np.max(new_df['X'], axis = 0)"
   ]
  },
  {
   "cell_type": "code",
   "execution_count": 488,
   "metadata": {
    "collapsed": false
   },
   "outputs": [],
   "source": [
    "a = new_df['X'][0]"
   ]
  },
  {
   "cell_type": "code",
   "execution_count": 500,
   "metadata": {
    "collapsed": false
   },
   "outputs": [
    {
     "name": "stdout",
     "output_type": "stream",
     "text": [
      "[332, 332, 333, 338, 342, 347, 352, 358, 367, 375, 384, 498, 508, 519, 529, 539, 549, 559, 569, 579, 588, 596, 605, 612, 618, 625, 630, 637, 643, 650, 655, 662, 669, 677, 684, 694, 702, 711, 718, 725, 733, 747, 754, 762, 771, 781, 802, 817, 821, 825, 828, 831, 833, 836, 838, 839, 840, 840, 841, 841, 841, 841, 841, 841, 841, 840, 839, 838, 837, 837, 831, 828, 822, 813, 809, 804, 799, 794, 788, 783, 771, 764, 758, 752, 745, 738, 729, 721, 713, 704, 696, 686, 678, 669, 659, 649, 637, 628, 614, 601, 587, 575, 562, 534, 523, 509, 498, 487, 476, 466, 456, 447, 438, 428, 418, 409, 401, 394, 385, 377, 370, 364, 359, 351, 346, 346, 346, 349, 353, 357, 362, 365, 367, 370, 371, 374, 375, 581, 576, 570, 563, 557, 552, 546, 542, 537, 531, 527, 525, 525, 525]\n"
     ]
    }
   ],
   "source": []
  },
  {
   "cell_type": "code",
   "execution_count": 497,
   "metadata": {
    "collapsed": false
   },
   "outputs": [
    {
     "data": {
      "text/plain": [
       "'[332, 332, 333, 338, 342, 347, 352, 358, 367, 375, 384, 498, 508, 519, 529, 539, 549, 559, 569, 579, 588, 596, 605, 612, 618, 625, 630, 637, 643, 650, 655, 662, 669, 677, 684, 694, 702, 711, 718, 725, 733, 747, 754, 762, 771, 781, 802, 817, 821, 825, 828, 831, 833, 836, 838, 839, 840, 840, 841, 841, 841, 841, 841, 841, 841, 840, 839, 838, 837, 837, 831, 828, 822, 813, 809, 804, 799, 794, 788, 783, 771, 764, 758, 752, 745, 738, 729, 721, 713, 704, 696, 686, 678, 669, 659, 649, 637, 628, 614, 601, 587, 575, 562, 534, 523, 509, 498, 487, 476, 466, 456, 447, 438, 428, 418, 409, 401, 394, 385, 377, 370, 364, 359, 351, 346, 346, 346, 349, 353, 357, 362, 365, 367, 370, 371, 374, 375, 581, 576, 570, 563, 557, 552, 546, 542, 537, 531, 527, 525, 525, 525]'"
      ]
     },
     "execution_count": 497,
     "metadata": {},
     "output_type": "execute_result"
    }
   ],
   "source": []
  },
  {
   "cell_type": "code",
   "execution_count": 519,
   "metadata": {
    "collapsed": false
   },
   "outputs": [],
   "source": [
    "from ast import literal_eval\n",
    "a = literal_eval(new_df[\"X\"][1])"
   ]
  },
  {
   "cell_type": "code",
   "execution_count": 521,
   "metadata": {
    "collapsed": false
   },
   "outputs": [
    {
     "ename": "KeyError",
     "evalue": "'drawing'",
     "output_type": "error",
     "traceback": [
      "\u001b[0;31m---------------------------------------------------------------------------\u001b[0m",
      "\u001b[0;31mKeyError\u001b[0m                                  Traceback (most recent call last)",
      "\u001b[0;32m<ipython-input-521-ce8cd39a1b87>\u001b[0m in \u001b[0;36m<module>\u001b[0;34m()\u001b[0m\n\u001b[0;32m----> 1\u001b[0;31m \u001b[0mnew_df\u001b[0m\u001b[0;34m[\u001b[0m\u001b[0;34m'drawing'\u001b[0m\u001b[0;34m]\u001b[0m\u001b[0;34m\u001b[0m\u001b[0m\n\u001b[0m",
      "\u001b[0;32m/Users/keisukeirie/anaconda/lib/python2.7/site-packages/pandas/core/frame.pyc\u001b[0m in \u001b[0;36m__getitem__\u001b[0;34m(self, key)\u001b[0m\n\u001b[1;32m   2057\u001b[0m             \u001b[0;32mreturn\u001b[0m \u001b[0mself\u001b[0m\u001b[0;34m.\u001b[0m\u001b[0m_getitem_multilevel\u001b[0m\u001b[0;34m(\u001b[0m\u001b[0mkey\u001b[0m\u001b[0;34m)\u001b[0m\u001b[0;34m\u001b[0m\u001b[0m\n\u001b[1;32m   2058\u001b[0m         \u001b[0;32melse\u001b[0m\u001b[0;34m:\u001b[0m\u001b[0;34m\u001b[0m\u001b[0m\n\u001b[0;32m-> 2059\u001b[0;31m             \u001b[0;32mreturn\u001b[0m \u001b[0mself\u001b[0m\u001b[0;34m.\u001b[0m\u001b[0m_getitem_column\u001b[0m\u001b[0;34m(\u001b[0m\u001b[0mkey\u001b[0m\u001b[0;34m)\u001b[0m\u001b[0;34m\u001b[0m\u001b[0m\n\u001b[0m\u001b[1;32m   2060\u001b[0m \u001b[0;34m\u001b[0m\u001b[0m\n\u001b[1;32m   2061\u001b[0m     \u001b[0;32mdef\u001b[0m \u001b[0m_getitem_column\u001b[0m\u001b[0;34m(\u001b[0m\u001b[0mself\u001b[0m\u001b[0;34m,\u001b[0m \u001b[0mkey\u001b[0m\u001b[0;34m)\u001b[0m\u001b[0;34m:\u001b[0m\u001b[0;34m\u001b[0m\u001b[0m\n",
      "\u001b[0;32m/Users/keisukeirie/anaconda/lib/python2.7/site-packages/pandas/core/frame.pyc\u001b[0m in \u001b[0;36m_getitem_column\u001b[0;34m(self, key)\u001b[0m\n\u001b[1;32m   2064\u001b[0m         \u001b[0;31m# get column\u001b[0m\u001b[0;34m\u001b[0m\u001b[0;34m\u001b[0m\u001b[0m\n\u001b[1;32m   2065\u001b[0m         \u001b[0;32mif\u001b[0m \u001b[0mself\u001b[0m\u001b[0;34m.\u001b[0m\u001b[0mcolumns\u001b[0m\u001b[0;34m.\u001b[0m\u001b[0mis_unique\u001b[0m\u001b[0;34m:\u001b[0m\u001b[0;34m\u001b[0m\u001b[0m\n\u001b[0;32m-> 2066\u001b[0;31m             \u001b[0;32mreturn\u001b[0m \u001b[0mself\u001b[0m\u001b[0;34m.\u001b[0m\u001b[0m_get_item_cache\u001b[0m\u001b[0;34m(\u001b[0m\u001b[0mkey\u001b[0m\u001b[0;34m)\u001b[0m\u001b[0;34m\u001b[0m\u001b[0m\n\u001b[0m\u001b[1;32m   2067\u001b[0m \u001b[0;34m\u001b[0m\u001b[0m\n\u001b[1;32m   2068\u001b[0m         \u001b[0;31m# duplicate columns & possible reduce dimensionality\u001b[0m\u001b[0;34m\u001b[0m\u001b[0;34m\u001b[0m\u001b[0m\n",
      "\u001b[0;32m/Users/keisukeirie/anaconda/lib/python2.7/site-packages/pandas/core/generic.pyc\u001b[0m in \u001b[0;36m_get_item_cache\u001b[0;34m(self, item)\u001b[0m\n\u001b[1;32m   1384\u001b[0m         \u001b[0mres\u001b[0m \u001b[0;34m=\u001b[0m \u001b[0mcache\u001b[0m\u001b[0;34m.\u001b[0m\u001b[0mget\u001b[0m\u001b[0;34m(\u001b[0m\u001b[0mitem\u001b[0m\u001b[0;34m)\u001b[0m\u001b[0;34m\u001b[0m\u001b[0m\n\u001b[1;32m   1385\u001b[0m         \u001b[0;32mif\u001b[0m \u001b[0mres\u001b[0m \u001b[0;32mis\u001b[0m \u001b[0mNone\u001b[0m\u001b[0;34m:\u001b[0m\u001b[0;34m\u001b[0m\u001b[0m\n\u001b[0;32m-> 1386\u001b[0;31m             \u001b[0mvalues\u001b[0m \u001b[0;34m=\u001b[0m \u001b[0mself\u001b[0m\u001b[0;34m.\u001b[0m\u001b[0m_data\u001b[0m\u001b[0;34m.\u001b[0m\u001b[0mget\u001b[0m\u001b[0;34m(\u001b[0m\u001b[0mitem\u001b[0m\u001b[0;34m)\u001b[0m\u001b[0;34m\u001b[0m\u001b[0m\n\u001b[0m\u001b[1;32m   1387\u001b[0m             \u001b[0mres\u001b[0m \u001b[0;34m=\u001b[0m \u001b[0mself\u001b[0m\u001b[0;34m.\u001b[0m\u001b[0m_box_item_values\u001b[0m\u001b[0;34m(\u001b[0m\u001b[0mitem\u001b[0m\u001b[0;34m,\u001b[0m \u001b[0mvalues\u001b[0m\u001b[0;34m)\u001b[0m\u001b[0;34m\u001b[0m\u001b[0m\n\u001b[1;32m   1388\u001b[0m             \u001b[0mcache\u001b[0m\u001b[0;34m[\u001b[0m\u001b[0mitem\u001b[0m\u001b[0;34m]\u001b[0m \u001b[0;34m=\u001b[0m \u001b[0mres\u001b[0m\u001b[0;34m\u001b[0m\u001b[0m\n",
      "\u001b[0;32m/Users/keisukeirie/anaconda/lib/python2.7/site-packages/pandas/core/internals.pyc\u001b[0m in \u001b[0;36mget\u001b[0;34m(self, item, fastpath)\u001b[0m\n\u001b[1;32m   3541\u001b[0m \u001b[0;34m\u001b[0m\u001b[0m\n\u001b[1;32m   3542\u001b[0m             \u001b[0;32mif\u001b[0m \u001b[0;32mnot\u001b[0m \u001b[0misnull\u001b[0m\u001b[0;34m(\u001b[0m\u001b[0mitem\u001b[0m\u001b[0;34m)\u001b[0m\u001b[0;34m:\u001b[0m\u001b[0;34m\u001b[0m\u001b[0m\n\u001b[0;32m-> 3543\u001b[0;31m                 \u001b[0mloc\u001b[0m \u001b[0;34m=\u001b[0m \u001b[0mself\u001b[0m\u001b[0;34m.\u001b[0m\u001b[0mitems\u001b[0m\u001b[0;34m.\u001b[0m\u001b[0mget_loc\u001b[0m\u001b[0;34m(\u001b[0m\u001b[0mitem\u001b[0m\u001b[0;34m)\u001b[0m\u001b[0;34m\u001b[0m\u001b[0m\n\u001b[0m\u001b[1;32m   3544\u001b[0m             \u001b[0;32melse\u001b[0m\u001b[0;34m:\u001b[0m\u001b[0;34m\u001b[0m\u001b[0m\n\u001b[1;32m   3545\u001b[0m                 \u001b[0mindexer\u001b[0m \u001b[0;34m=\u001b[0m \u001b[0mnp\u001b[0m\u001b[0;34m.\u001b[0m\u001b[0marange\u001b[0m\u001b[0;34m(\u001b[0m\u001b[0mlen\u001b[0m\u001b[0;34m(\u001b[0m\u001b[0mself\u001b[0m\u001b[0;34m.\u001b[0m\u001b[0mitems\u001b[0m\u001b[0;34m)\u001b[0m\u001b[0;34m)\u001b[0m\u001b[0;34m[\u001b[0m\u001b[0misnull\u001b[0m\u001b[0;34m(\u001b[0m\u001b[0mself\u001b[0m\u001b[0;34m.\u001b[0m\u001b[0mitems\u001b[0m\u001b[0;34m)\u001b[0m\u001b[0;34m]\u001b[0m\u001b[0;34m\u001b[0m\u001b[0m\n",
      "\u001b[0;32m/Users/keisukeirie/anaconda/lib/python2.7/site-packages/pandas/indexes/base.pyc\u001b[0m in \u001b[0;36mget_loc\u001b[0;34m(self, key, method, tolerance)\u001b[0m\n\u001b[1;32m   2134\u001b[0m                 \u001b[0;32mreturn\u001b[0m \u001b[0mself\u001b[0m\u001b[0;34m.\u001b[0m\u001b[0m_engine\u001b[0m\u001b[0;34m.\u001b[0m\u001b[0mget_loc\u001b[0m\u001b[0;34m(\u001b[0m\u001b[0mkey\u001b[0m\u001b[0;34m)\u001b[0m\u001b[0;34m\u001b[0m\u001b[0m\n\u001b[1;32m   2135\u001b[0m             \u001b[0;32mexcept\u001b[0m \u001b[0mKeyError\u001b[0m\u001b[0;34m:\u001b[0m\u001b[0;34m\u001b[0m\u001b[0m\n\u001b[0;32m-> 2136\u001b[0;31m                 \u001b[0;32mreturn\u001b[0m \u001b[0mself\u001b[0m\u001b[0;34m.\u001b[0m\u001b[0m_engine\u001b[0m\u001b[0;34m.\u001b[0m\u001b[0mget_loc\u001b[0m\u001b[0;34m(\u001b[0m\u001b[0mself\u001b[0m\u001b[0;34m.\u001b[0m\u001b[0m_maybe_cast_indexer\u001b[0m\u001b[0;34m(\u001b[0m\u001b[0mkey\u001b[0m\u001b[0;34m)\u001b[0m\u001b[0;34m)\u001b[0m\u001b[0;34m\u001b[0m\u001b[0m\n\u001b[0m\u001b[1;32m   2137\u001b[0m \u001b[0;34m\u001b[0m\u001b[0m\n\u001b[1;32m   2138\u001b[0m         \u001b[0mindexer\u001b[0m \u001b[0;34m=\u001b[0m \u001b[0mself\u001b[0m\u001b[0;34m.\u001b[0m\u001b[0mget_indexer\u001b[0m\u001b[0;34m(\u001b[0m\u001b[0;34m[\u001b[0m\u001b[0mkey\u001b[0m\u001b[0;34m]\u001b[0m\u001b[0;34m,\u001b[0m \u001b[0mmethod\u001b[0m\u001b[0;34m=\u001b[0m\u001b[0mmethod\u001b[0m\u001b[0;34m,\u001b[0m \u001b[0mtolerance\u001b[0m\u001b[0;34m=\u001b[0m\u001b[0mtolerance\u001b[0m\u001b[0;34m)\u001b[0m\u001b[0;34m\u001b[0m\u001b[0m\n",
      "\u001b[0;32mpandas/index.pyx\u001b[0m in \u001b[0;36mpandas.index.IndexEngine.get_loc (pandas/index.c:4433)\u001b[0;34m()\u001b[0m\n",
      "\u001b[0;32mpandas/index.pyx\u001b[0m in \u001b[0;36mpandas.index.IndexEngine.get_loc (pandas/index.c:4279)\u001b[0;34m()\u001b[0m\n",
      "\u001b[0;32mpandas/src/hashtable_class_helper.pxi\u001b[0m in \u001b[0;36mpandas.hashtable.PyObjectHashTable.get_item (pandas/hashtable.c:13742)\u001b[0;34m()\u001b[0m\n",
      "\u001b[0;32mpandas/src/hashtable_class_helper.pxi\u001b[0m in \u001b[0;36mpandas.hashtable.PyObjectHashTable.get_item (pandas/hashtable.c:13696)\u001b[0;34m()\u001b[0m\n",
      "\u001b[0;31mKeyError\u001b[0m: 'drawing'"
     ]
    }
   ],
   "source": []
  },
  {
   "cell_type": "code",
   "execution_count": 512,
   "metadata": {
    "collapsed": false
   },
   "outputs": [
    {
     "data": {
      "text/plain": [
       "'['"
      ]
     },
     "execution_count": 512,
     "metadata": {},
     "output_type": "execute_result"
    }
   ],
   "source": []
  },
  {
   "cell_type": "code",
   "execution_count": null,
   "metadata": {
    "collapsed": true
   },
   "outputs": [],
   "source": []
  }
 ],
 "metadata": {
  "kernelspec": {
   "display_name": "Python 2",
   "language": "python",
   "name": "python2"
  },
  "language_info": {
   "codemirror_mode": {
    "name": "ipython",
    "version": 2
   },
   "file_extension": ".py",
   "mimetype": "text/x-python",
   "name": "python",
   "nbconvert_exporter": "python",
   "pygments_lexer": "ipython2",
   "version": "2.7.13"
  }
 },
 "nbformat": 4,
 "nbformat_minor": 2
}
